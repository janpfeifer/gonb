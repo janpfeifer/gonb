{
 "cells": [
  {
   "cell_type": "code",
   "execution_count": 1,
   "id": "400c42ef-e846-4fae-aee5-1f33bc3bb627",
   "metadata": {},
   "outputs": [
    {
     "name": "stdout",
     "output_type": "stream",
     "text": [
      "%goflags=[\"--cover\" \"--covermode=set\"]\n"
     ]
    }
   ],
   "source": [
    "%goflags --cover --covermode=set"
   ]
  },
  {
   "cell_type": "code",
   "execution_count": 2,
   "id": "34b14999-3f4a-497b-991a-99675035d44f",
   "metadata": {},
   "outputs": [
    {
     "name": "stdout",
     "output_type": "stream",
     "text": [
      "init_a\n"
     ]
    }
   ],
   "source": [
    "func init_a() {\n",
    "    fmt.Println(\"init_a\")\n",
    "}"
   ]
  },
  {
   "cell_type": "code",
   "execution_count": 3,
   "id": "2db16bf2-504f-4259-8dc4-7c0ff96551d2",
   "metadata": {},
   "outputs": [
    {
     "name": "stdout",
     "output_type": "stream",
     "text": [
      "init_a\n",
      "init_b\n"
     ]
    }
   ],
   "source": [
    "func init_b() {\n",
    "    fmt.Println(\"init_b\")\n",
    "}"
   ]
  },
  {
   "cell_type": "code",
   "execution_count": 4,
   "id": "9ffbcc38-5abc-4b31-a5a5-ebd22b705f57",
   "metadata": {},
   "outputs": [
    {
     "name": "stdout",
     "output_type": "stream",
     "text": [
      "init: v0\n",
      "init_a\n",
      "init_b\n"
     ]
    }
   ],
   "source": [
    "func init() {\n",
    "    fmt.Println(\"init: v0\")\n",
    "}"
   ]
  },
  {
   "cell_type": "code",
   "execution_count": 5,
   "id": "5fdc03e1-5115-4aac-8d77-73a447d189ef",
   "metadata": {},
   "outputs": [
    {
     "name": "stdout",
     "output_type": "stream",
     "text": [
      "init: v1\n",
      "init_a\n",
      "init_b\n"
     ]
    }
   ],
   "source": [
    "func init() {\n",
    "    fmt.Println(\"init: v1\")\n",
    "}"
   ]
  },
  {
   "cell_type": "code",
   "execution_count": 6,
   "id": "ccee8f11-14ae-41c6-8463-6d9c39f03c3f",
   "metadata": {},
   "outputs": [
    {
     "name": "stdout",
     "output_type": "stream",
     "text": [
      ". removed func init_a\n",
      ". removed func init_b\n"
     ]
    }
   ],
   "source": [
    "%rm init_a init_b"
   ]
  },
  {
   "cell_type": "code",
   "execution_count": 7,
   "id": "d7381d2f-4f9b-4f2f-981c-7be523427878",
   "metadata": {},
   "outputs": [
    {
     "name": "stdout",
     "output_type": "stream",
     "text": [
      "init: v1\n",
      "Done\n"
     ]
    }
   ],
   "source": [
    "%%\n",
    "fmt.Println(\"Done\")"
   ]
  }
 ],
 "metadata": {
  "kernelspec": {
   "display_name": "Go (gonb)",
   "language": "go",
   "name": "gonb"
  },
  "language_info": {
   "codemirror_mode": "",
   "file_extension": ".go",
   "mimetype": "text/x-go",
   "name": "go",
   "nbconvert_exporter": "",
   "pygments_lexer": "",
   "version": "go1.25.3"
  }
 },
 "nbformat": 4,
 "nbformat_minor": 5
}
