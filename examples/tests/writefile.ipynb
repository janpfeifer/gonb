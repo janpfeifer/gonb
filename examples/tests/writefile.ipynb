{
 "cells": [
  {
   "cell_type": "code",
   "execution_count": 1,
   "id": "fe105ef6-5264-4cb4-b467-60d9b0a337fd",
   "metadata": {},
   "outputs": [
    {
     "name": "stderr",
     "output_type": "stream",
     "text": [
      "Cell contents written to \"/tmp/gonb_nbtests_writefile_1480747020/poetry.txt\".\n"
     ]
    }
   ],
   "source": [
    "%%writefile ${TEST_DIR}poetry.txt\n",
    "Um trem-de-ferro é uma coisa mecânica,\n",
    "mas atravessa a noite, a madrugada, o dia,\n",
    "atravessou minha vida,\n",
    "virou só sentimento.\n"
   ]
  },
  {
   "cell_type": "code",
   "execution_count": 2,
   "id": "004e9622-e3a4-4780-816a-e5d1c77055b4",
   "metadata": {},
   "outputs": [
    {
     "name": "stderr",
     "output_type": "stream",
     "text": [
      "Cell contents appended to \"/tmp/gonb_nbtests_writefile_1480747020/poetry.txt\".\n"
     ]
    }
   ],
   "source": [
    "%%writefile -a ${TEST_DIR}poetry.txt\n",
    "Adélia Prado"
   ]
  }
 ],
 "metadata": {
  "kernelspec": {
   "display_name": "Go (gonb)",
   "language": "go",
   "name": "gonb"
  },
  "language_info": {
   "codemirror_mode": "",
   "file_extension": ".go",
   "mimetype": "text/x-go",
   "name": "go",
   "nbconvert_exporter": "",
   "pygments_lexer": "",
   "version": "go1.25.3"
  }
 },
 "nbformat": 4,
 "nbformat_minor": 5
}
