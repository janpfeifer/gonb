{
 "cells": [
  {
   "cell_type": "code",
   "execution_count": 1,
   "id": "cde3ac14-241f-44ed-91de-7fcbaedf25b3",
   "metadata": {
    "editable": true,
    "slideshow": {
     "slide_type": ""
    },
    "tags": []
   },
   "outputs": [
    {
     "name": "stdout",
     "output_type": "stream",
     "text": [
      "hello\n"
     ]
    }
   ],
   "source": [
    "!echo hello"
   ]
  },
  {
   "cell_type": "code",
   "execution_count": 2,
   "id": "382ac8a9-1bd0-4854-91df-5ef8fd14ea3a",
   "metadata": {},
   "outputs": [
    {
     "name": "stdout",
     "output_type": "stream",
     "text": [
      "/tmp/gonb_2a008d65\n"
     ]
    }
   ],
   "source": [
    "!*pwd"
   ]
  },
  {
   "cell_type": "code",
   "execution_count": 3,
   "id": "46f77fda-a87a-44ce-8958-a1701f971eb4",
   "metadata": {
    "editable": true,
    "slideshow": {
     "slide_type": ""
    },
    "tags": []
   },
   "outputs": [
    {
     "name": "stdout",
     "output_type": "stream",
     "text": [
      "/home/janpf/Projects/gonb/examples/tests\n",
      "/tmp/gonb_2a008d65\n",
      "/home/janpf/Projects/gonb\n",
      "/home/janpf/Projects/gonb\n"
     ]
    }
   ],
   "source": [
    "!echo $GONB_DIR\n",
    "!echo $GONB_TMP_DIR\n",
    "!echo $GONB_JUPYTER_ROOT\n",
    "!echo $GONB_GIT_ROOT"
   ]
  }
 ],
 "metadata": {
  "kernelspec": {
   "display_name": "Go (gonb)",
   "language": "go",
   "name": "gonb"
  },
  "language_info": {
   "codemirror_mode": "",
   "file_extension": ".go",
   "mimetype": "text/x-go",
   "name": "go",
   "nbconvert_exporter": "",
   "pygments_lexer": "",
   "version": "go1.24.2"
  }
 },
 "nbformat": 4,
 "nbformat_minor": 5
}
