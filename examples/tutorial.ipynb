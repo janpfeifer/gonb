{
 "cells": [
  {
   "cell_type": "markdown",
   "id": "f6c85fc5-9435-4201-9d21-6a17513880d3",
   "metadata": {
    "tags": []
   },
   "source": [
    "# Welcome to GoNB\n",
    "\n",
    "[*GoNB*](https://github.com/janpfeifer/gonb) is a *Go* notebook kernel. It allows one to easily run *Go* code in a *Jupyter Notebook* and variations.\n",
    "\n",
    "In this tutorial we will walk through most of its features, and explain how it works.\n",
    "\n",
    "See the [README.md's Installation section](https://github.com/janpfeifer/gonb#installation). It also includes a Docker with Jupyter+GoNB pre-installed, that makes it trivial.\n",
    "\n",
    "## Hello World!\n",
    "\n",
    "Whenever a cell is executed, *gonb* saves the cell content of the cell to a *Go* file, auto-imports missing dependencies (when it can guess), compiles and runs it. It may seem a lot, but its pretty fast (except\n",
    "maybe the first cell run that is usually a little slower) and feels interactive. "
   ]
  },
  {
   "cell_type": "code",
   "execution_count": 1,
   "id": "430b4b44-0012-4086-8460-5ba81d20a699",
   "metadata": {},
   "outputs": [
    {
     "name": "stdout",
     "output_type": "stream",
     "text": [
      "Hello World!"
     ]
    }
   ],
   "source": [
    "func main() {\n",
    "    fmt.Printf(\"Hello World!\")\n",
    "}"
   ]
  },
  {
   "cell_type": "markdown",
   "id": "a936cc25-a399-43d8-8590-4bbf116a9c15",
   "metadata": {},
   "source": [
    "Easy, right ? Now when trying different things, to avoid having to write `func main()` at every cell, *gonb* provides a short cut: \"%%\". Anything after a \"%%\" will be wrapped inside a `func main() { ... }`.\n",
    "\n",
    "So, let's redo our example above:"
   ]
  },
  {
   "cell_type": "code",
   "execution_count": 2,
   "id": "781a15d2-469e-4c93-b45e-c18067787f97",
   "metadata": {},
   "outputs": [
    {
     "name": "stdout",
     "output_type": "stream",
     "text": [
      "Hello World!"
     ]
    }
   ],
   "source": [
    "%%\n",
    "fmt.Printf(\"Hello World!\")"
   ]
  },
  {
   "cell_type": "markdown",
   "id": "1917b045-6b6a-47bb-a9ed-dfac8fecaca7",
   "metadata": {},
   "source": [
    "## Globals and Updates\n",
    "\n",
    "Imports, functions, constants, types and variables global declarations are memorized once executed, and carry over from one cell to another.\n",
    "\n",
    "So one can work on different functions let's say on different cells.\n",
    "\n",
    "Let's test it out:"
   ]
  },
  {
   "cell_type": "code",
   "execution_count": 3,
   "id": "1c73bb12-8e2e-49a8-ae72-60d2c022e25f",
   "metadata": {},
   "outputs": [],
   "source": [
    "func incr[T interface{constraints.Float|constraints.Integer}](x T) T {\n",
    "    return x+T(1)\n",
    "}"
   ]
  },
  {
   "cell_type": "markdown",
   "id": "35bb337a-1a73-4d0d-a411-3eec6c1e8507",
   "metadata": {},
   "source": [
    "Ok, now we have `incr` defined to any numeric type, we can use it in all our future cells.\n",
    "\n",
    "Some quick tests:"
   ]
  },
  {
   "cell_type": "code",
   "execution_count": 4,
   "id": "d1414e76-3fa9-4046-827b-e449cc638e81",
   "metadata": {},
   "outputs": [
    {
     "name": "stdout",
     "output_type": "stream",
     "text": [
      "incr: x=2, y=4.141593\n"
     ]
    }
   ],
   "source": [
    "%%\n",
    "x := incr(1)\n",
    "y := incr(math.Pi)\n",
    "fmt.Printf(\"incr: x=%d, y=%f\\n\", x, y)"
   ]
  },
  {
   "cell_type": "markdown",
   "id": "7c1b28f7-b36f-4ec3-9239-99f8352c01fb",
   "metadata": {},
   "source": [
    "> **Note**: Only the various declarations are carried over from one cell to another, not the results of the execution, including updates to variables.\n",
    "> \n",
    "> So for instance, if we initialize a variable `startValue` with 1, then increment it in one cell. Next time we execute a new cell, it will be again initialized to 1. "
   ]
  },
  {
   "cell_type": "code",
   "execution_count": 5,
   "id": "5549f231-4061-4ec7-9e1c-8ae56c7c82d7",
   "metadata": {},
   "outputs": [
    {
     "name": "stdout",
     "output_type": "stream",
     "text": [
      "current startValue=2.000000\n"
     ]
    }
   ],
   "source": [
    "var startValue = float32(1)\n",
    "\n",
    "%%\n",
    "startValue = incr(startValue)\n",
    "fmt.Printf(\"current startValue=%f\\n\", startValue)"
   ]
  },
  {
   "cell_type": "markdown",
   "id": "df2be63f-991f-4c4d-acf3-d705fa2b6d96",
   "metadata": {},
   "source": [
    "Now if we execute again, `startValue` is again initialized to 1:"
   ]
  },
  {
   "cell_type": "code",
   "execution_count": 6,
   "id": "2111a24e-2627-463a-b936-d8476ba69005",
   "metadata": {},
   "outputs": [
    {
     "name": "stdout",
     "output_type": "stream",
     "text": [
      "current startValue=1.000000\n"
     ]
    }
   ],
   "source": [
    "%%\n",
    "fmt.Printf(\"current startValue=%f\\n\", startValue)"
   ]
  },
  {
   "cell_type": "markdown",
   "id": "f4fc0797-df7f-4652-8a22-e8b489580e1d",
   "metadata": {},
   "source": [
    "If one wants to save results calculated from one cell to another, GoNB includes the `github.com/janpfeifer/gonb/cache` package that makes it trivial to save and load previously generated results.\n",
    "\n",
    "**Example**: Below `VeryExpensive` is only called once for `CachedValue`, so you will notice that if you run the cell multiple times, it will display always the same number, while `NonCachedValue` will always call `VeryExpensive` again, and display another number. So the string \"...calculating...\" is printed twice only the first time."
   ]
  },
  {
   "cell_type": "code",
   "execution_count": 7,
   "id": "d59e0cbd-0d2a-42e5-8f94-29936130f437",
   "metadata": {},
   "outputs": [
    {
     "name": "stdout",
     "output_type": "stream",
     "text": [
      "\t...VeryExpensive() call...\n",
      "NonCachedValue=501\n",
      "   CachedValue=993\n"
     ]
    }
   ],
   "source": [
    "// Temporary fix until new release v0.6.0 propagates.\n",
    "import (\n",
    "    \"math/rand\"\n",
    "    \"github.com/janpfeifer/gonb/cache\"\n",
    ")\n",
    "\n",
    "func VeryExpensive() int {\n",
    "    fmt.Println(\"\\t...VeryExpensive() call...\")\n",
    "    return rand.Intn(1000)\n",
    "}\n",
    "\n",
    "var (\n",
    "    CachedValue = cache.Cache(\"expensive\", VeryExpensive)\n",
    "    NonCachedValue = VeryExpensive()\n",
    ")\n",
    "    \n",
    "%%\n",
    "fmt.Printf(\"NonCachedValue=%d\\n\", NonCachedValue)\n",
    "fmt.Printf(\"   CachedValue=%d\\n\", CachedValue)"
   ]
  },
  {
   "cell_type": "markdown",
   "id": "5a5470b4-43ea-47ae-a111-63ab77376bd0",
   "metadata": {},
   "source": [
    "The `cache` package has many more features, check out [its documentation](https://pkg.go.dev/github.com/janpfeifer/gonb/cache).\n",
    "\n",
    "Now, we don't want to have `NonCachedValue` execute `VeryExpensive` at every cell, so let's remove its definition.\n",
    "See how to manage memorized definitions using `%help`, in the \"Managing Memorized Definitions\" section, it's displayed at the end of the tutorial."
   ]
  },
  {
   "cell_type": "code",
   "execution_count": 8,
   "id": "892deacf-a02c-4979-827c-59dedfdc0564",
   "metadata": {
    "tags": []
   },
   "outputs": [
    {
     "name": "stdout",
     "output_type": "stream",
     "text": [
      ". removed var NonCachedValue\n",
      ". removed var CachedValue\n"
     ]
    }
   ],
   "source": [
    "%rm NonCachedValue CachedValue"
   ]
  },
  {
   "cell_type": "markdown",
   "id": "83c85334-6323-4b75-b9a2-184c0d83ed1c",
   "metadata": {},
   "source": [
    "## Imports\n",
    "\n",
    "A few things to remember from imports in *gonb*:\n",
    "\n",
    "* Like all other global declarations, they are memorized and carry over from one cell to the other. Still it's good practice to have each cell import what it needs -- no harm in importing the same thing multiple times.\n",
    "* *gonb* runs *goimports* before compiling the code: that means it will be able to automatically add import statements for builtin packages (in the examples above we never wrote `import \"fmt\"`, and it just worked).\n",
    "* *gonb* runs `go get` before compiling the code. This automatically fetches an external import dependency. That is convenient in most cases, but in case you want to get an external *Go* module at an specific version, you can do it manually with something like `!*go get <github.com/user/my_go_module>@<my_version>`. See below on running shell commands.\n",
    "\n",
    "Let's create a simple example that imports a delighful progress-bar library. Notice it automatically fetches the lastest version of the library `github.com/schollz/progressbar/v3` -- and the execution of the cell the first time may take a few seconds because of that.\n"
   ]
  },
  {
   "cell_type": "code",
   "execution_count": 9,
   "id": "cbfa0e91-0209-48f5-962e-fc43dbc6b5bb",
   "metadata": {},
   "outputs": [
    {
     "name": "stdout",
     "output_type": "stream",
     "text": [
      " 100% |████████████████████████████████████████| (25 steps/s) [3s:0s]:0s]\n",
      "Done\n"
     ]
    }
   ],
   "source": [
    "import progressbar \"github.com/schollz/progressbar/v3\"\n",
    "\n",
    "%%\n",
    "bar := progressbar.NewOptions(100, \n",
    "                              progressbar.OptionUseANSICodes(true),\n",
    "                              progressbar.OptionShowIts(),\n",
    "                              progressbar.OptionSetItsString(\"steps\"))\n",
    "for i := 0; i < 100; i++ {\n",
    "    bar.Add(1)\n",
    "    time.Sleep(40 * time.Millisecond)\n",
    "}\n",
    "fmt.Printf(\"\\nDone\\n\")"
   ]
  },
  {
   "cell_type": "markdown",
   "id": "452a879c-f36a-4c77-8c72-7daeeee6c319",
   "metadata": {},
   "source": [
    "## Displaying HTML, Image and others\n",
    "\n",
    "One of the things that makes working in Notebooks better than using a terminal is that one can display rich content, like dynamically generated images, plots, HTML, even videos and sound.\n",
    "\n",
    "We'll follow with a few examples of what is already supported.\n",
    "\n",
    "### Improved Hello World!\n",
    "\n",
    "*gonb* includes the accompanying library *gonbUI* that handles the interfacing to the Notebook through a very simple API:\n"
   ]
  },
  {
   "cell_type": "code",
   "execution_count": 10,
   "id": "48c217c5-6712-496e-8281-1179a487ad08",
   "metadata": {},
   "outputs": [
    {
     "data": {
      "text/html": [
       "<span style=\"background:pink; color:#111; border-radius: 3px; border: 3px solid orange; font-size: 18px;\">I 🧡 GoNB!</span>"
      ]
     },
     "metadata": {},
     "output_type": "display_data"
    }
   ],
   "source": [
    "import \"github.com/janpfeifer/gonb/gonbui\"\n",
    "\n",
    "%%\n",
    "gonbui.DisplayHtml(`<span style=\"background:pink; color:#111; border-radius: 3px; border: 3px solid orange; font-size: 18px;\">I 🧡 GoNB!</span>`)"
   ]
  },
  {
   "cell_type": "markdown",
   "id": "31d7080f-d94d-4e2d-92d8-e8173244c21c",
   "metadata": {},
   "source": [
    "### Markdown\n",
    "\n",
    "Markdown output is also supported -- and used for the `%help` command, see the bottom of the tutorial.\n",
    "\n",
    "This also renders math formulas using latex, use `$x^2$` for formulas inlined in text, or\n",
    "`$$x^2$$` for formulas in their own line.\n",
    "\n",
    "Example:"
   ]
  },
  {
   "cell_type": "code",
   "execution_count": 11,
   "id": "9b76a18c-faa8-449e-b56a-8453de99dbc3",
   "metadata": {},
   "outputs": [
    {
     "data": {
      "text/markdown": [
       "#### Objective\n",
       "\n",
       "1. Have fun coding **Go**;\n",
       "1. Profit...\n",
       "$$f(x) = \\int_{-\\infty}^{\\infty} e^{-x^2} dx$$"
      ]
     },
     "metadata": {},
     "output_type": "display_data"
    }
   ],
   "source": [
    "%%\n",
    "gonbui.DisplayMarkdown(\"#### Objective\\n\\n1. Have fun coding **Go**;\\n1. Profit...\\n\"+\n",
    "                       `$$f(x) = \\int_{-\\infty}^{\\infty} e^{-x^2} dx$$`)\n"
   ]
  },
  {
   "cell_type": "markdown",
   "id": "78f82dcb-3bf4-4c43-8f41-3b8dc3fe3461",
   "metadata": {},
   "source": [
    "### Fractals\n",
    "\n",
    "Let's draw a fractal, using another fun package: [github.com/benc-uk/gofract](\"github.com/benc-uk/gofract\")"
   ]
  },
  {
   "cell_type": "code",
   "execution_count": 12,
   "id": "e5f298cd-a260-493c-9c59-dd3d79706116",
   "metadata": {},
   "outputs": [
    {
     "name": "stdout",
     "output_type": "stream",
     "text": [
      "lastRenderTime=0.828705\n"
     ]
    },
    {
     "data": {
      "image/png": "[encoded data removed]"
     },
     "metadata": {},
     "output_type": "display_data"
    }
   ],
   "source": [
    "import \"github.com/benc-uk/gofract/pkg/fractals\"\n",
    "import \"github.com/benc-uk/gofract/pkg/colors\"\n",
    "\n",
    "%%\n",
    "imgWidth := 320\n",
    "\n",
    "// Default fractal\n",
    "f := fractals.Fractal{\n",
    "    FractType:    \"mandelbrot\",\n",
    "    Center:       fractals.ComplexPair{-0.6, 0.0},\n",
    "    MagFactor:    1.0,\n",
    "    MaxIter:      90,\n",
    "    W:            3.0,\n",
    "    H:            2.0,\n",
    "    ImgWidth:     imgWidth,\n",
    "    JuliaSeed:    fractals.ComplexPair{0.355, 0.355},\n",
    "    InnerColor:   \"#000000\",\n",
    "    FullScreen:   false,\n",
    "    ColorRepeats: 2,\n",
    "}\n",
    "gradient := colors.GradientTable{}\n",
    "gradient.AddToTable(\"#000762\", 0.0)\n",
    "gradient.AddToTable(\"#0B48C3\", 0.2)\n",
    "gradient.AddToTable(\"#ffffff\", 0.4)\n",
    "gradient.AddToTable(\"#E3A000\", 0.5)\n",
    "gradient.AddToTable(\"#000762\", 0.9)\n",
    "imgHeight := int(float64(imgWidth) * float64(f.H/f.W))\n",
    "img := image.NewRGBA(image.Rect(0, 0, f.ImgWidth, imgHeight))\n",
    "lastRenderTime := f.Render(img, gradient)\n",
    "fmt.Printf(\"lastRenderTime=%v\\n\", lastRenderTime)\n",
    "gonbui.DisplayImage(img)\n"
   ]
  },
  {
   "cell_type": "markdown",
   "id": "87fb9828-c892-447b-9eb1-0717a96c342b",
   "metadata": {},
   "source": [
    "### SVG Drawing\n",
    "\n",
    "From the amazing [SVGo library](https://github.com/ajstarks/svgo), I really wish I was that creative.\n",
    "Below is Antony Stark's Shining example, [demoed here](https://speakerdeck.com/ajstarks/svgo-code-plus-picture-examples)"
   ]
  },
  {
   "cell_type": "code",
   "execution_count": 13,
   "id": "48d813a8-8d4e-4ab7-b374-10a73977ec7b",
   "metadata": {},
   "outputs": [
    {
     "data": {
      "text/html": [
       "<div><?xml version=\"1.0\"?>\n",
       "<!-- Generated by SVGo -->\n",
       "<svg width=\"500\" height=\"500\"\n",
       "     xmlns=\"http://www.w3.org/2000/svg\"\n",
       "     xmlns:xlink=\"http://www.w3.org/1999/xlink\">\n",
       "<defs>\n",
       "<g id=\"unit\">\n",
       "<polyline points=\"0,100 0,40 50,10 100,40 100,100\" style=\"fill:none\" />\n",
       "<polygon points=\"50,40 70,50 70,75 50,85 30,75 30,50\" />\n",
       "</g>\n",
       "<g id=\"runit\">\n",
       "<g transform=\"translate(150,180) rotate(180)\">\n",
       "<use x=\"0\" y=\"0\" xlink:href=\"#unit\" />\n",
       "</g>\n",
       "</g>\n",
       "</defs>\n",
       "<rect x=\"0\" y=\"0\" width=\"500\" height=\"500\" style=\"fill:rgb(227,78,25)\" />\n",
       "<g style=\"stroke:rgb(65,52,44);stroke-width:12;fill:rgb(153,29,40)\">\n",
       "<use x=\"-50\" y=\"0\" xlink:href=\"#unit\" />\n",
       "<use x=\"-50\" y=\"0\" xlink:href=\"#runit\" />\n",
       "<use x=\"50\" y=\"0\" xlink:href=\"#unit\" />\n",
       "<use x=\"50\" y=\"0\" xlink:href=\"#runit\" />\n",
       "<use x=\"150\" y=\"0\" xlink:href=\"#unit\" />\n",
       "<use x=\"150\" y=\"0\" xlink:href=\"#runit\" />\n",
       "<use x=\"250\" y=\"0\" xlink:href=\"#unit\" />\n",
       "<use x=\"250\" y=\"0\" xlink:href=\"#runit\" />\n",
       "<use x=\"350\" y=\"0\" xlink:href=\"#unit\" />\n",
       "<use x=\"350\" y=\"0\" xlink:href=\"#runit\" />\n",
       "<use x=\"450\" y=\"0\" xlink:href=\"#unit\" />\n",
       "<use x=\"450\" y=\"0\" xlink:href=\"#runit\" />\n",
       "<use x=\"-50\" y=\"130\" xlink:href=\"#unit\" />\n",
       "<use x=\"-50\" y=\"130\" xlink:href=\"#runit\" />\n",
       "<use x=\"50\" y=\"130\" xlink:href=\"#unit\" />\n",
       "<use x=\"50\" y=\"130\" xlink:href=\"#runit\" />\n",
       "<use x=\"150\" y=\"130\" xlink:href=\"#unit\" />\n",
       "<use x=\"150\" y=\"130\" xlink:href=\"#runit\" />\n",
       "<use x=\"250\" y=\"130\" xlink:href=\"#unit\" />\n",
       "<use x=\"250\" y=\"130\" xlink:href=\"#runit\" />\n",
       "<use x=\"350\" y=\"130\" xlink:href=\"#unit\" />\n",
       "<use x=\"350\" y=\"130\" xlink:href=\"#runit\" />\n",
       "<use x=\"450\" y=\"130\" xlink:href=\"#unit\" />\n",
       "<use x=\"450\" y=\"130\" xlink:href=\"#runit\" />\n",
       "<use x=\"-50\" y=\"260\" xlink:href=\"#unit\" />\n",
       "<use x=\"-50\" y=\"260\" xlink:href=\"#runit\" />\n",
       "<use x=\"50\" y=\"260\" xlink:href=\"#unit\" />\n",
       "<use x=\"50\" y=\"260\" xlink:href=\"#runit\" />\n",
       "<use x=\"150\" y=\"260\" xlink:href=\"#unit\" />\n",
       "<use x=\"150\" y=\"260\" xlink:href=\"#runit\" />\n",
       "<use x=\"250\" y=\"260\" xlink:href=\"#unit\" />\n",
       "<use x=\"250\" y=\"260\" xlink:href=\"#runit\" />\n",
       "<use x=\"350\" y=\"260\" xlink:href=\"#unit\" />\n",
       "<use x=\"350\" y=\"260\" xlink:href=\"#runit\" />\n",
       "<use x=\"450\" y=\"260\" xlink:href=\"#unit\" />\n",
       "<use x=\"450\" y=\"260\" xlink:href=\"#runit\" />\n",
       "<use x=\"-50\" y=\"390\" xlink:href=\"#unit\" />\n",
       "<use x=\"-50\" y=\"390\" xlink:href=\"#runit\" />\n",
       "<use x=\"50\" y=\"390\" xlink:href=\"#unit\" />\n",
       "<use x=\"50\" y=\"390\" xlink:href=\"#runit\" />\n",
       "<use x=\"150\" y=\"390\" xlink:href=\"#unit\" />\n",
       "<use x=\"150\" y=\"390\" xlink:href=\"#runit\" />\n",
       "<use x=\"250\" y=\"390\" xlink:href=\"#unit\" />\n",
       "<use x=\"250\" y=\"390\" xlink:href=\"#runit\" />\n",
       "<use x=\"350\" y=\"390\" xlink:href=\"#unit\" />\n",
       "<use x=\"350\" y=\"390\" xlink:href=\"#runit\" />\n",
       "<use x=\"450\" y=\"390\" xlink:href=\"#unit\" />\n",
       "<use x=\"450\" y=\"390\" xlink:href=\"#runit\" />\n",
       "</g>\n",
       "</svg>\n",
       "</div>"
      ]
     },
     "metadata": {},
     "output_type": "display_data"
    }
   ],
   "source": [
    "import \"bytes\"\n",
    "import svgo \"github.com/ajstarks/svgo\"\n",
    "import \"github.com/janpfeifer/gonb/gonbui\"\n",
    "\n",
    "func Shining(width, height int) string {\n",
    "    buf := bytes.NewBuffer(nil)\n",
    "    canvas := svgo.New(buf)\n",
    "    xp := []int{50, 70, 70, 50, 30, 30}\n",
    "    yp := []int{40, 50, 75, 85, 75, 50}\n",
    "    xl := []int{0, 0, 50, 100, 100}\n",
    "    yl := []int{100, 40, 10, 40, 100}\n",
    "    bgcolor := \"rgb(227,78,25)\"\n",
    "    bkcolor := \"rgb(153,29,40)\"\n",
    "    stcolor := \"rgb(65,52,44)\"\n",
    "    stwidth := 12\n",
    "    stylefmt := \"stroke:%s;stroke-width:%d;fill:%s\"\n",
    "    canvas.Start(width, height)\n",
    "    canvas.Def()\n",
    "    canvas.Gid(\"unit\")\n",
    "    canvas.Polyline(xl, yl, \"fill:none\")\n",
    "    canvas.Polygon(xp, yp)\n",
    "    canvas.Gend()\n",
    "    canvas.Gid(\"runit\")\n",
    "    canvas.TranslateRotate(150, 180, 180)\n",
    "    canvas.Use(0, 0, \"#unit\")\n",
    "    canvas.Gend()\n",
    "    canvas.Gend()\n",
    "    canvas.DefEnd()\n",
    "    canvas.Rect(0, 0, width, height, \"fill:\"+bgcolor)\n",
    "    canvas.Gstyle(fmt.Sprintf(stylefmt, stcolor, stwidth, bkcolor))\n",
    "    for y := 0; y < height; y += 130 {\n",
    "        for x := -50; x < width; x += 100 {\n",
    "            canvas.Use(x, y, \"#unit\")\n",
    "            canvas.Use(x, y, \"#runit\")\n",
    "        }\n",
    "    } \n",
    "    canvas.Gend()\n",
    "    canvas.End()\n",
    "    return buf.String()\n",
    "}\n",
    "\n",
    "%%\n",
    "gonbui.DisplaySvg(Shining(500, 500))"
   ]
  },
  {
   "cell_type": "markdown",
   "id": "61449cd0-4a9a-4934-ae73-5aa504edf3fb",
   "metadata": {},
   "source": [
    "### Plotting with [Margaid (SVG)](https://github.com/erkkah/margaid)\n",
    "\n",
    "A real pearl!\n",
    "\n",
    "Since its latest update is not yet \"released\" (tagged in Git), we needed to get the version on the specific commit. See \"Executing Shell Commands\" below."
   ]
  },
  {
   "cell_type": "code",
   "execution_count": 14,
   "id": "1fda7399-ecb1-44c2-b05c-fb52d188822a",
   "metadata": {},
   "outputs": [
    {
     "name": "stderr",
     "output_type": "stream",
     "text": [
      "go: added github.com/erkkah/margaid v0.1.1-0.20230128143048-d60b2efd2f5a\n"
     ]
    }
   ],
   "source": [
    "!*go get -u github.com/erkkah/margaid@d60b2efd2f5acc5d8fbbe13eaf85f1532e11a2fb"
   ]
  },
  {
   "cell_type": "code",
   "execution_count": 15,
   "id": "6904a8ef-5a4c-412f-ad75-58910d933b76",
   "metadata": {},
   "outputs": [
    {
     "data": {
      "text/html": [
       "<div><svg style=\"background-color:#f8f8f8\" preserveAspectRatio=\"xMidYMid meet\" xmlns=\"http://www.w3.org/2000/svg\" width=\"640\" height=\"480\" viewbox=\"0 0 640 480\"><defs><marker id=\"circle\" viewBox=\"0 0 10 10 \" refX=\"5\" refY=\"5\" markerUnits=\"userSpaceOnUse\" markerWidth=\"2%\" markerHeight=\"2%\"><circle cx=\"5\" cy=\"5\" r=\"3\" fill=\"none\" stroke=\"black\"/></marker><marker id=\"filled-circle\" viewBox=\"0 0 10 10 \" refX=\"5\" refY=\"5\" markerUnits=\"userSpaceOnUse\" markerWidth=\"2%\" markerHeight=\"2%\"><circle cx=\"5\" cy=\"5\" r=\"3\" fill=\"black\" stroke=\"none\"/></marker><marker markerUnits=\"userSpaceOnUse\" markerWidth=\"2%\" markerHeight=\"2%\" id=\"square\" viewBox=\"0 0 10 10 \" refX=\"5\" refY=\"5\"><rect x=\"2\" y=\"2\" width=\"6\" height=\"6\" fill=\"none\" stroke=\"black\"/></marker><marker refX=\"5\" refY=\"5\" markerUnits=\"userSpaceOnUse\" markerWidth=\"2%\" markerHeight=\"2%\" id=\"filled-square\" viewBox=\"0 0 10 10 \"><rect fill=\"black\" stroke=\"none\" x=\"2\" y=\"2\" width=\"6\" height=\"6\"/></marker></defs><g transform=\"translate(70 410 )scale(1 -1 )\" stroke-width=\"1px\" stroke-linejoin=\"round\" marker-end=\"url(#square)\" stroke=\"hsl(90, 47%, 65%)\" fill=\"none\" marker-start=\"url(#square)\" marker-mid=\"url(#square)\" stroke-linecap=\"round\"><path vector-effect=\"non-scaling-stroke\" d=\"M10,6.800000e+00 L6.333333e+01,4.306667e+01 L1.166667e+02,7.933333e+01 L170,1.156000e+02 L2.233333e+02,1.518667e+02 L2.766667e+02,1.881333e+02 L330,2.244000e+02 L3.833333e+02,2.606667e+02 L4.366667e+02,2.969333e+02 L490,3.332000e+02 \"/></g><g stroke=\"hsl(301, 88%, 65%)\" stroke-linecap=\"round\" transform=\"translate(70 410 )scale(1 -1 )\" fill=\"none\" stroke-width=\"3.14px\" stroke-linejoin=\"round\"><path d=\"M1.000000e+01,6.800000e+00 C1.888889e+01,6.875434e+00 4.555556e+01,7.018758e+00 6.333333e+01,7.252602e+00 C8.111111e+01,7.486446e+00 9.888889e+01,7.711993e+00 1.166667e+02,8.203066e+00 C1.344444e+02,8.694139e+00 1.522222e+02,9.167786e+00 1.700000e+02,1.019904e+01 C1.877778e+02,1.123029e+01 2.055556e+02,1.222495e+01 2.233333e+02,1.439059e+01 C2.411111e+02,1.655622e+01 2.588889e+02,1.864500e+01 2.766667e+02,2.319283e+01 C2.944444e+02,2.774066e+01 3.122222e+02,3.212711e+01 3.300000e+02,4.167755e+01 C3.477778e+02,5.122798e+01 3.655556e+02,6.043953e+01 3.833333e+02,8.049545e+01 C4.011111e+02,1.005514e+02 4.188889e+02,1.198956e+02 4.366667e+02,1.620130e+02 C4.544444e+02,2.041305e+02 4.811111e+02,3.046688e+02 4.900000e+02,3.332000e+02 \" vector-effect=\"non-scaling-stroke\"/></g><g transform=\"translate(70 410 )scale(1 -1 )\" stroke-linejoin=\"round\" marker-mid=\"url(#filled-circle)\" stroke=\"hsl(152, 76%, 65%)\" fill=\"none\" stroke-width=\"3px\" marker-start=\"url(#filled-circle)\" marker-end=\"url(#filled-circle)\" stroke-linecap=\"round\"><path d=\"M1.000000e+01,2.499846e+02 C1.888889e+01,2.496499e+02 4.555556e+01,2.541855e+02 6.333333e+01,2.479764e+02 C8.111111e+01,2.417672e+02 9.888889e+01,2.190764e+02 1.166667e+02,2.127298e+02 C1.344444e+02,2.063832e+02 1.522222e+02,2.063289e+02 1.700000e+02,2.098965e+02 C1.877778e+02,2.134642e+02 2.055556e+02,2.263553e+02 2.233333e+02,2.341355e+02 C2.411111e+02,2.419157e+02 2.588889e+02,2.496024e+02 2.766667e+02,2.565778e+02 C2.944444e+02,2.635532e+02 3.122222e+02,2.765158e+02 3.300000e+02,2.759878e+02 C3.477778e+02,2.754598e+02 3.655556e+02,2.554924e+02 3.833333e+02,2.534097e+02 C4.011111e+02,2.513271e+02 4.188889e+02,2.648923e+02 4.366667e+02,2.634918e+02 C4.544444e+02,2.620912e+02 4.811111e+02,2.480873e+02 4.900000e+02,2.450064e+02 \" vector-effect=\"non-scaling-stroke\"/></g><g transform=\"translate(70 410 )scale(1 -1 )\" fill=\"none\" stroke-width=\"2px\" stroke-linejoin=\"round\" stroke=\"black\" stroke-linecap=\"round\"><path d=\"M10,0 L10,-6 M6.333333e+01,0 L6.333333e+01,-6 M1.166667e+02,0 L1.166667e+02,-6 M170,0 L170,-6 M2.233333e+02,0 L2.233333e+02,-6 M2.766667e+02,0 L2.766667e+02,-6 M330,0 L330,-6 M3.833333e+02,0 L3.833333e+02,-6 M4.366667e+02,0 L4.366667e+02,-6 M490,0 L490,-6 \" vector-effect=\"non-scaling-stroke\"/></g><g stroke-linecap=\"round\" stroke-width=\"2px\" stroke-linejoin=\"round\" transform=\"translate(70 410 )scale(1 1 )\" font-family=\"sans-serif\" font-style=\"normal\" font-weight=\"normal\" fill=\"black\" font-size=\"12px\" text-anchor=\"middle\" dominant-baseline=\"hanging\" stroke=\"black\"><text dominant-baseline=\"hanging\" stroke=\"none\" vector-effect=\"non-scaling-stroke\" x=\"10\" y=\"10\">1</text><text stroke=\"none\" vector-effect=\"non-scaling-stroke\" x=\"6.333333e+01\" y=\"10\" dominant-baseline=\"hanging\">2</text><text stroke=\"none\" vector-effect=\"non-scaling-stroke\" x=\"1.166667e+02\" y=\"10\" dominant-baseline=\"hanging\">3</text><text y=\"10\" dominant-baseline=\"hanging\" stroke=\"none\" vector-effect=\"non-scaling-stroke\" x=\"170\">4</text><text stroke=\"none\" vector-effect=\"non-scaling-stroke\" x=\"2.233333e+02\" y=\"10\" dominant-baseline=\"hanging\">5</text><text stroke=\"none\" vector-effect=\"non-scaling-stroke\" x=\"2.766667e+02\" y=\"10\" dominant-baseline=\"hanging\">6</text><text dominant-baseline=\"hanging\" stroke=\"none\" vector-effect=\"non-scaling-stroke\" x=\"330\" y=\"10\">7</text><text x=\"3.833333e+02\" y=\"10\" dominant-baseline=\"hanging\" stroke=\"none\" vector-effect=\"non-scaling-stroke\">8</text><text dominant-baseline=\"hanging\" stroke=\"none\" vector-effect=\"non-scaling-stroke\" x=\"4.366667e+02\" y=\"10\">9</text><text stroke=\"none\" vector-effect=\"non-scaling-stroke\" x=\"490\" y=\"10\" dominant-baseline=\"hanging\">10</text></g><g text-anchor=\"middle\" stroke=\"black\" transform=\"translate(70 410 )scale(1 1 )rotate(0 0 0 )\" font-weight=\"bold\" fill=\"black\" dominant-baseline=\"baseline\" stroke-linecap=\"round\" font-family=\"sans-serif\" font-style=\"normal\" stroke-width=\"2px\" stroke-linejoin=\"round\" font-size=\"12px\"><text stroke=\"none\" vector-effect=\"non-scaling-stroke\" x=\"250\" y=\"-6\" dominant-baseline=\"baseline\">X</text></g><g font-family=\"sans-serif\" font-style=\"normal\" font-weight=\"bold\" fill=\"black\" font-size=\"12px\" dominant-baseline=\"baseline\" stroke=\"black\" stroke-width=\"2px\" stroke-linejoin=\"round\" text-anchor=\"middle\" stroke-linecap=\"round\" transform=\"translate(70 410 )scale(1 -1 )\"><path vector-effect=\"non-scaling-stroke\" d=\"M0,2.472591e+01 L-6,2.472591e+01 M0,5.860766e+01 L-6,5.860766e+01 M0,9.248942e+01 L-6,9.248942e+01 M0,1.263712e+02 L-6,1.263712e+02 M0,1.602529e+02 L-6,1.602529e+02 M0,1.941347e+02 L-6,1.941347e+02 M0,2.280164e+02 L-6,2.280164e+02 M0,2.618982e+02 L-6,2.618982e+02 M0,2.957799e+02 L-6,2.957799e+02 M0,3.296617e+02 L-6,3.296617e+02 \"/></g><g dominant-baseline=\"middle\" stroke=\"black\" transform=\"translate(70 410 )scale(1 1 )\" font-style=\"normal\" fill=\"black\" stroke-width=\"2px\" stroke-linejoin=\"round\" text-anchor=\"end\" stroke-linecap=\"round\" font-family=\"sans-serif\" font-weight=\"normal\" font-size=\"12px\"><text y=\"-2.472591e+01\" dominant-baseline=\"middle\" stroke=\"none\" vector-effect=\"non-scaling-stroke\" x=\"-10\">1.0</text><text x=\"-10\" y=\"-5.860766e+01\" dominant-baseline=\"middle\" stroke=\"none\" vector-effect=\"non-scaling-stroke\">2.0</text><text y=\"-9.248942e+01\" dominant-baseline=\"middle\" stroke=\"none\" vector-effect=\"non-scaling-stroke\" x=\"-10\">4.0</text><text stroke=\"none\" vector-effect=\"non-scaling-stroke\" x=\"-10\" y=\"-1.263712e+02\" dominant-baseline=\"middle\">8.0</text><text x=\"-10\" y=\"-1.602529e+02\" dominant-baseline=\"middle\" stroke=\"none\" vector-effect=\"non-scaling-stroke\">16.0</text><text x=\"-10\" y=\"-1.941347e+02\" dominant-baseline=\"middle\" stroke=\"none\" vector-effect=\"non-scaling-stroke\">32.0</text><text y=\"-2.280164e+02\" dominant-baseline=\"middle\" stroke=\"none\" vector-effect=\"non-scaling-stroke\" x=\"-10\">64.0</text><text stroke=\"none\" vector-effect=\"non-scaling-stroke\" x=\"-10\" y=\"-2.618982e+02\" dominant-baseline=\"middle\">128.0</text><text dominant-baseline=\"middle\" stroke=\"none\" vector-effect=\"non-scaling-stroke\" x=\"-10\" y=\"-2.957799e+02\">256.0</text><text y=\"-3.296617e+02\" dominant-baseline=\"middle\" stroke=\"none\" vector-effect=\"non-scaling-stroke\" x=\"-10\">512.0</text></g><g font-style=\"normal\" font-weight=\"bold\" stroke-linejoin=\"round\" font-size=\"12px\" stroke=\"black\" stroke-linecap=\"round\" fill=\"black\" stroke-width=\"2px\" text-anchor=\"middle\" dominant-baseline=\"hanging\" transform=\"translate(70 410 )scale(1 1 )rotate(-90 0 0 )\" font-family=\"sans-serif\"><text vector-effect=\"non-scaling-stroke\" x=\"170\" y=\"6\" dominant-baseline=\"hanging\" stroke=\"none\">Y</text></g><g fill=\"black\" stroke-width=\"0.5px\" dominant-baseline=\"hanging\" stroke=\"gray\" stroke-linecap=\"round\" transform=\"translate(70 410 )scale(1 -1 )\" font-family=\"sans-serif\" font-style=\"normal\" stroke-linejoin=\"round\" font-size=\"12px\" text-anchor=\"middle\" font-weight=\"bold\"><path vector-effect=\"non-scaling-stroke\" d=\"M0,2.472591e+01 L500,2.472591e+01 M0,5.860766e+01 L500,5.860766e+01 M0,9.248942e+01 L500,9.248942e+01 M0,1.263712e+02 L500,1.263712e+02 M0,1.602529e+02 L500,1.602529e+02 M0,1.941347e+02 L500,1.941347e+02 M0,2.280164e+02 L500,2.280164e+02 M0,2.618982e+02 L500,2.618982e+02 M0,2.957799e+02 L500,2.957799e+02 M0,3.296617e+02 L500,3.296617e+02 \"/></g><g text-anchor=\"middle\" stroke=\"black\" stroke-linecap=\"round\" font-weight=\"bold\" stroke-width=\"2px\" dominant-baseline=\"hanging\" font-family=\"sans-serif\" font-style=\"normal\" fill=\"none\" stroke-linejoin=\"round\" font-size=\"12px\"><rect height=\"340\" vector-effect=\"non-scaling-stroke\" x=\"70\" y=\"70\" width=\"500\"/><g fill=\"black\" font-size=\"18px\" dominant-baseline=\"middle\"><text x=\"320\" y=\"35\" dominant-baseline=\"middle\" stroke=\"none\" vector-effect=\"non-scaling-stroke\">A diagram of sorts 📊 📈</text></g></g></svg></div>"
      ]
     },
     "metadata": {},
     "output_type": "display_data"
    }
   ],
   "source": [
    "import \"bytes\"\n",
    "import \"github.com/janpfeifer/gonb/gonbui\"\n",
    "import mg \"github.com/erkkah/margaid\"\n",
    "\n",
    "func mgPlot(width, height int) string {\n",
    "    randomSeries := mg.NewSeries()\n",
    "    rand.Seed(time.Now().Unix())\n",
    "    for i := float64(0); i < 10; i++ {\n",
    "        randomSeries.Add(mg.MakeValue(i+1, 200*rand.Float64()))\n",
    "    }\n",
    "\n",
    "    testSeries := mg.NewSeries()\n",
    "    multiplier := 2.1\n",
    "    v := 0.33\n",
    "    for i := float64(0); i < 10; i++ {\n",
    "        v *= multiplier\n",
    "        testSeries.Add(mg.MakeValue(i+1, v))\n",
    "    }\n",
    "\n",
    "    diagram := mg.New(width, height,\n",
    "        mg.WithAutorange(mg.XAxis, testSeries),\n",
    "        mg.WithAutorange(mg.YAxis, testSeries),\n",
    "        mg.WithAutorange(mg.Y2Axis, testSeries),\n",
    "        mg.WithProjection(mg.YAxis, mg.Log),\n",
    "        mg.WithInset(70),\n",
    "        mg.WithPadding(2),\n",
    "        mg.WithColorScheme(90),\n",
    "        mg.WithBackgroundColor(\"#f8f8f8\"),\n",
    "    )\n",
    "\n",
    "    diagram.Line(testSeries, mg.UsingAxes(mg.XAxis, mg.YAxis), mg.UsingMarker(\"square\"), mg.UsingStrokeWidth(1))\n",
    "    diagram.Smooth(testSeries, mg.UsingAxes(mg.XAxis, mg.Y2Axis), mg.UsingStrokeWidth(3.14))\n",
    "    diagram.Smooth(randomSeries, mg.UsingAxes(mg.XAxis, mg.YAxis), mg.UsingMarker(\"filled-circle\"))\n",
    "    diagram.Axis(testSeries, mg.XAxis, diagram.ValueTicker('f', 0, 10), false, \"X\")\n",
    "    diagram.Axis(testSeries, mg.YAxis, diagram.ValueTicker('f', 1, 2), true, \"Y\")\n",
    "\n",
    "    diagram.Frame()\n",
    "    diagram.Title(\"A diagram of sorts 📊 📈\")\n",
    "    buf := bytes.NewBuffer(nil)\n",
    "    diagram.Render(buf)\n",
    "    return buf.String()\n",
    "}\n",
    "\n",
    "%%\n",
    "gonbui.DisplaySvg(mgPlot(640, 480))"
   ]
  },
  {
   "cell_type": "markdown",
   "id": "2f534d6c-57c4-4ec1-ba71-310d73fa5802",
   "metadata": {},
   "source": [
    "### Animated Plots with `UpdateHtml`\n",
    "\n",
    "Still using Margaid but now we animate a `Sin(x)` plot varying the frequency from 0.0 to 10.0, every 10 milliseconds. This demonstrates `gonbui.UpdateHtml(id, html)`: it allows a transient HTML cell to be updated in the middle of the execution of a cell.\n",
    "\n",
    "> **Note**: This also works with markdown, use `gonbui.UpdateMarkdown(id, markdown)` instead. "
   ]
  },
  {
   "cell_type": "code",
   "execution_count": 16,
   "id": "293ceefc-c50c-4817-98fe-5f15ee4d0754",
   "metadata": {
    "tags": []
   },
   "outputs": [
    {
     "data": {
      "text/html": []
     },
     "metadata": {},
     "output_type": "display_data"
    },
    {
     "data": {
      "text/html": [
       "<svg preserveAspectRatio=\"xMidYMid meet\" xmlns=\"http://www.w3.org/2000/svg\" width=\"1024\" height=\"400\" viewbox=\"0 0 1024 400\" style=\"background-color:#f8f8f8\"><defs><marker refY=\"5\" markerUnits=\"userSpaceOnUse\" markerWidth=\"2%\" markerHeight=\"2%\" id=\"circle\" viewBox=\"0 0 10 10 \" refX=\"5\"><circle cx=\"5\" cy=\"5\" r=\"3\" fill=\"none\" stroke=\"black\"/></marker><marker markerWidth=\"2%\" markerHeight=\"2%\" id=\"filled-circle\" viewBox=\"0 0 10 10 \" refX=\"5\" refY=\"5\" markerUnits=\"userSpaceOnUse\"><circle cy=\"5\" r=\"3\" fill=\"black\" stroke=\"none\" cx=\"5\"/></marker><marker refY=\"5\" markerUnits=\"userSpaceOnUse\" markerWidth=\"2%\" markerHeight=\"2%\" id=\"square\" viewBox=\"0 0 10 10 \" refX=\"5\"><rect width=\"6\" height=\"6\" fill=\"none\" stroke=\"black\" x=\"2\" y=\"2\"/></marker><marker refY=\"5\" markerUnits=\"userSpaceOnUse\" markerWidth=\"2%\" markerHeight=\"2%\" id=\"filled-square\" viewBox=\"0 0 10 10 \" refX=\"5\"><rect width=\"6\" height=\"6\" fill=\"black\" stroke=\"none\" x=\"2\" y=\"2\"/></marker></defs><g stroke=\"hsl(198, 47%, 65%)\" stroke-width=\"3.14px\" stroke-linecap=\"round\" stroke-linejoin=\"round\" transform=\"translate(64 336 )scale(1 -1 )\" fill=\"none\"><path vector-effect=\"non-scaling-stroke\" d=\"M0.000000e+00,1.360151e+02 C1.508418e+00,1.492823e+02 6.033670e+00,1.941026e+02 9.050505e+00,2.156183e+02 C1.206734e+01,2.371339e+02 1.508418e+01,2.567511e+02 1.810101e+01,2.651091e+02 C2.111785e+01,2.734670e+02 2.413468e+01,2.737275e+02 2.715152e+01,2.657661e+02 C3.016835e+01,2.578047e+02 3.318519e+01,2.386099e+02 3.620202e+01,2.173408e+02 C3.921886e+01,1.960717e+02 4.223569e+01,1.646827e+02 4.525253e+01,1.381516e+02 C4.826936e+01,1.116205e+02 5.128620e+01,7.991108e+01 5.430303e+01,5.815415e+01 C5.731987e+01,3.639723e+01 6.033670e+01,1.636254e+01 6.335354e+01,7.610031e+00 C6.637037e+01,-1.142479e+00 6.938721e+01,-1.923721e+00 7.240404e+01,5.639090e+00 C7.542088e+01,1.320190e+01 7.843771e+01,3.196963e+01 8.145455e+01,5.298689e+01 C8.447138e+01,7.400416e+01 8.748822e+01,1.052214e+02 9.050505e+01,1.317427e+02 C9.352189e+01,1.582640e+02 9.653872e+01,1.901218e+02 9.955556e+01,2.121146e+02 C1.025724e+02,2.341075e+02 1.055892e+02,2.545547e+02 1.086061e+02,2.636996e+02 C1.116229e+02,2.728445e+02 1.146397e+02,2.741463e+02 1.176566e+02,2.669840e+02 C1.206734e+02,2.598216e+02 1.236902e+02,2.414856e+02 1.267071e+02,2.207253e+02 C1.297239e+02,1.999651e+02 1.327407e+02,1.689273e+02 1.357576e+02,1.424224e+02 C1.387744e+02,1.159175e+02 1.417912e+02,8.391904e+01 1.448081e+02,6.169575e+01 C1.478249e+02,3.947246e+01 1.508418e+02,1.861768e+01 1.538586e+02,9.082673e+00 C1.568754e+02,-4.523356e-01 1.598923e+02,-2.274485e+00 1.629091e+02,4.485700e+00 C1.659259e+02,1.124588e+01 1.689428e+02,2.914565e+01 1.719596e+02,4.964378e+01 C1.749764e+02,7.014191e+01 1.779933e+02,1.009924e+02 1.810101e+02,1.274745e+02 C1.840269e+02,1.539565e+02 1.870438e+02,1.860876e+02 1.900606e+02,2.085359e+02 C1.930774e+02,2.309842e+02 1.960943e+02,2.522414e+02 1.991111e+02,2.621641e+02 C2.021279e+02,2.720869e+02 2.051448e+02,2.744289e+02 2.081616e+02,2.680726e+02 C2.111785e+02,2.617163e+02 2.141953e+02,2.442572e+02 2.172121e+02,2.240262e+02 C2.202290e+02,2.037953e+02 2.232458e+02,1.731395e+02 2.262626e+02,1.466869e+02 C2.292795e+02,1.202343e+02 2.322963e+02,8.797842e+01 2.353131e+02,6.531070e+01 C2.383300e+02,4.264297e+01 2.413468e+02,2.098868e+01 2.443636e+02,1.068058e+01 C2.473805e+02,3.724845e-01 2.503973e+02,-2.488773e+00 2.534141e+02,3.462114e+00 C2.564310e+02,9.413000e+00 2.594478e+02,2.642714e+01 2.624646e+02,4.638590e+01 C2.654815e+02,6.634466e+01 2.684983e+02,9.679807e+01 2.715152e+02,1.232147e+02 C2.745320e+02,1.496313e+02 2.775488e+02,1.820041e+02 2.805657e+02,2.048856e+02 C2.835825e+02,2.277672e+02 2.865993e+02,2.498133e+02 2.896162e+02,2.605042e+02 C2.926330e+02,2.711951e+02 2.956498e+02,2.745749e+02 2.986667e+02,2.690309e+02 C3.016835e+02,2.634869e+02 3.047003e+02,2.469219e+02 3.077172e+02,2.272403e+02 C3.107340e+02,2.075586e+02 3.137508e+02,1.773151e+02 3.167677e+02,1.509409e+02 C3.197845e+02,1.245668e+02 3.228013e+02,9.208521e+01 3.258182e+02,6.899542e+01 C3.288350e+02,4.590563e+01 3.318519e+02,2.347319e+01 3.348687e+02,1.240218e+01 C3.378855e+02,1.331167e+00 3.409024e+02,-2.566375e+00 3.439192e+02,2.569341e+00 C3.469360e+02,7.705057e+00 3.499529e+02,2.381677e+01 3.529697e+02,4.321648e+01 C3.559865e+02,6.261618e+01 3.590034e+02,9.264240e+01 3.620202e+02,1.189676e+02 C3.650370e+02,1.452927e+02 3.680539e+02,1.778751e+02 3.710707e+02,2.011674e+02 C3.740875e+02,2.244597e+02 3.771044e+02,2.472729e+02 3.801212e+02,2.587214e+02 C3.831380e+02,2.701698e+02 3.861549e+02,2.745841e+02 3.891717e+02,2.698579e+02 C3.921886e+02,2.651317e+02 3.952054e+02,2.494772e+02 3.982222e+02,2.303643e+02 C4.012391e+02,2.112513e+02 4.042559e+02,1.814498e+02 4.072727e+02,1.551802e+02 C4.102896e+02,1.289105e+02 4.133064e+02,9.623535e+01 4.163232e+02,7.274628e+01 C4.193401e+02,4.925721e+01 4.223569e+02,2.606877e+01 4.253737e+02,1.424577e+01 C4.283906e+02,2.422767e+00 4.314074e+02,-2.507213e+00 4.344242e+02,1.808264e+00 C4.374411e+02,6.123741e+00 4.404579e+02,2.131714e+01 4.434747e+02,4.013863e+01 C4.464916e+02,5.896013e+01 4.495084e+02,8.852953e+01 4.525253e+02,1.147372e+02 C4.555421e+02,1.409449e+02 4.585589e+02,1.737048e+02 4.615758e+02,1.973848e+02 C4.645926e+02,2.210649e+02 4.676094e+02,2.446228e+02 4.706263e+02,2.568175e+02 C4.736431e+02,2.690121e+02 4.766599e+02,2.744566e+02 4.796768e+02,2.705529e+02 C4.826936e+02,2.666491e+02 4.857104e+02,2.519206e+02 4.887273e+02,2.333952e+02 C4.917441e+02,2.148698e+02 4.947609e+02,1.855398e+02 4.977778e+02,1.594005e+02 C5.007946e+02,1.332612e+02 5.038114e+02,1.004247e+02 5.068283e+02,7.655958e+01 C5.098451e+02,5.269442e+01 5.128620e+02,2.877286e+01 5.158788e+02,1.620953e+01 C5.188956e+02,3.646206e+00 5.219125e+02,-2.311347e+00 5.249293e+02,1.179632e+00 C5.279461e+02,4.670611e+00 5.309630e+02,1.893069e+01 5.339798e+02,3.715541e+01 C5.369966e+02,5.538012e+01 5.400135e+02,8.446352e+01 5.430303e+02,1.105279e+02 C5.460471e+02,1.365923e+02 5.490640e+02,1.694973e+02 5.520808e+02,1.935417e+02 C5.550976e+02,2.175861e+02 5.581145e+02,2.418654e+02 5.611313e+02,2.547943e+02 C5.641481e+02,2.677232e+02 5.671650e+02,2.741924e+02 5.701818e+02,2.711150e+02 C5.731987e+02,2.680376e+02 5.762155e+02,2.542495e+02 5.792323e+02,2.363300e+02 C5.822492e+02,2.184105e+02 5.852660e+02,1.895809e+02 5.882828e+02,1.635978e+02 C5.912997e+02,1.376147e+02 5.943165e+02,1.046493e+02 5.973333e+02,8.043156e+01 C6.003502e+02,5.621385e+01 6.033670e+02,3.158278e+01 6.063838e+02,1.829153e+01 C6.094007e+02,5.000278e+00 6.124175e+02,-1.978970e+00 6.154343e+02,6.840666e-01 C6.184512e+02,3.347103e+00 6.214680e+02,1.665980e+01 6.244848e+02,3.426974e+01 C6.275017e+02,5.187969e+01 6.305185e+02,8.044839e+01 6.335354e+02,1.063437e+02 C6.365522e+02,1.322391e+02 6.395690e+02,1.652568e+02 6.425859e+02,1.896418e+02 C6.456027e+02,2.140269e+02 6.486195e+02,2.390036e+02 6.516364e+02,2.526540e+02 C6.546532e+02,2.663043e+02 6.576700e+02,2.737919e+02 6.606869e+02,2.715439e+02 C6.637037e+02,2.692958e+02 6.667205e+02,2.564618e+02 6.697374e+02,2.391658e+02 C6.727542e+02,2.218698e+02 6.757710e+02,1.935691e+02 6.787879e+02,1.677678e+02 C6.818047e+02,1.419666e+02 6.848215e+02,1.089047e+02 6.878384e+02,8.435839e+01 C6.908552e+02,5.981204e+01 6.938721e+02,3.449576e+01 6.968889e+02,2.048970e+01 C6.999057e+02,6.483645e+00 7.029226e+02,-1.510409e+00 7.059394e+02,3.220567e-01 C7.089562e+02,2.154522e+00 7.119731e+02,1.450669e+01 7.149899e+02,3.148449e+01 C7.180067e+02,4.846229e+01 7.210236e+02,7.648810e+01 7.240404e+02,1.021889e+02 C7.270572e+02,1.278896e+02 7.300741e+02,1.609874e+02 7.330909e+02,1.856890e+02 C7.361077e+02,2.103906e+02 7.391246e+02,2.360402e+02 7.421414e+02,2.503985e+02 C7.451582e+02,2.647568e+02 7.481751e+02,2.732554e+02 7.511919e+02,2.718390e+02 C7.542088e+02,2.704225e+02 7.572256e+02,2.585552e+02 7.602424e+02,2.418998e+02 C7.632593e+02,2.252444e+02 7.662761e+02,1.975005e+02 7.692929e+02,1.719065e+02 C7.723098e+02,1.463126e+02 7.753266e+02,1.131870e+02 7.783434e+02,8.833620e+01 C7.813603e+02,6.348543e+01 7.843771e+02,3.750892e+01 7.873939e+02,2.280188e+01 C7.904108e+02,8.094844e+00 7.934276e+02,-9.061263e-01 7.964444e+02,9.395948e-02 C7.994613e+02,1.094045e+00 8.024781e+02,1.247350e+01 8.054949e+02,2.880240e+01 C8.085118e+02,4.513130e+01 8.115286e+02,7.258655e+01 8.145455e+02,9.806735e+01 C8.175623e+02,1.235482e+02 8.205791e+02,1.566934e+02 8.235960e+02,1.816872e+02 C8.266128e+02,2.066810e+02 8.296296e+02,2.329781e+02 8.326465e+02,2.480302e+02 C8.356633e+02,2.630823e+02 8.386801e+02,2.725835e+02 8.416970e+02,2.720000e+02 C8.447138e+02,2.714165e+02 8.477306e+02,2.605277e+02 8.507475e+02,2.445293e+02 C8.537643e+02,2.285310e+02 8.567811e+02,2.013712e+02 8.597980e+02,1.760098e+02 C8.628148e+02,1.506484e+02 8.658316e+02,1.174917e+02 8.688485e+02,9.236106e+01 C8.718653e+02,6.723039e+01 8.748822e+02,4.061931e+01 8.778990e+02,2.522580e+01 C8.809158e+02,9.832285e+00 8.839327e+02,-1.667194e-01 8.869495e+02,0.000000e+00 C8.899663e+02,1.667194e-01 8.944916e+02,2.185509e+01 8.960000e+02,2.622611e+01 \"/></g><g fill=\"none\" stroke=\"black\" stroke-width=\"2px\" stroke-linecap=\"round\" stroke-linejoin=\"round\"><rect vector-effect=\"non-scaling-stroke\" x=\"64\" y=\"64\" width=\"896\" height=\"272\"/><g fill=\"black\" font-family=\"sans-serif\" font-weight=\"bold\" dominant-baseline=\"middle\" font-size=\"18px\" font-style=\"normal\" text-anchor=\"middle\"><text stroke=\"none\" vector-effect=\"non-scaling-stroke\" x=\"512\" y=\"32\" dominant-baseline=\"middle\">Animated Sine</text></g></g></svg>"
      ]
     },
     "metadata": {},
     "output_type": "display_data"
    }
   ],
   "source": [
    "import (\n",
    "    \"bytes\"\n",
    "    \"math\"\n",
    "    \"time\"\n",
    "    \n",
    "     \"github.com/janpfeifer/gonb/gonbui\"\n",
    "     mg \"github.com/erkkah/margaid\"\n",
    ")\n",
    "\n",
    "\n",
    "func mgSinPlot(width, height int, freq float64) string {\n",
    "    series := mg.NewSeries()\n",
    "    const numPoints = 100\n",
    "    for i := 0; i < numPoints; i++ {\n",
    "        x := float64(i) / float64(numPoints) * 2.0 * math.Pi * freq\n",
    "        series.Add(mg.MakeValue(x, math.Sin(x)))\n",
    "    }\n",
    "    diagram := mg.New(width, height,\n",
    "        mg.WithAutorange(mg.XAxis, series),\n",
    "        mg.WithAutorange(mg.YAxis, series),\n",
    "        mg.WithBackgroundColor(\"#f8f8f8\"),\n",
    "    )\n",
    "    diagram.Smooth(series, mg.UsingAxes(mg.XAxis, mg.YAxis), mg.UsingStrokeWidth(3.14))\n",
    "    diagram.Frame()\n",
    "    diagram.Title(\"Animated Sine\")\n",
    "    buf := bytes.NewBuffer(nil)\n",
    "    diagram.Render(buf)\n",
    "    return buf.String()\n",
    "}\n",
    "\n",
    "%%\n",
    "htmlCellId := \"sin_plot\"+gonbui.UniqueId()\n",
    "plotSvg := \"\"\n",
    "ticker := time.NewTicker(10 * time.Millisecond)\n",
    "for freq := 0.0; freq <= 10.0; freq += 0.05 {\n",
    "    plotSvg = mgSinPlot(1024, 400, freq)\n",
    "    gonbui.UpdateHtml(htmlCellId, plotSvg)\n",
    "    <-ticker.C\n",
    "}\n",
    "ticker.Stop()\n",
    "\n",
    "// Erase transient image and re-display it so it can be persisted.\n",
    "gonbui.UpdateHtml(htmlCellId, \"\")\n",
    "gonbui.DisplayHtml(plotSvg)\n"
   ]
  },
  {
   "cell_type": "markdown",
   "id": "9b6d9d8f-de5e-4154-9f09-21bb3b2f545f",
   "metadata": {},
   "source": [
    "### Plotting with [Gonum Plot](https://github.com/gonum/plot) (SVG and PNG)\n",
    "\n",
    "Another great plotting library."
   ]
  },
  {
   "cell_type": "code",
   "execution_count": 17,
   "id": "58248364-f1b3-4e56-adc7-7034a1f6c56d",
   "metadata": {},
   "outputs": [
    {
     "data": {
      "image/png": "[encoded data removed]"
     },
     "metadata": {},
     "output_type": "display_data"
    }
   ],
   "source": [
    "import (\n",
    "    \"bytes\"\n",
    "    \"math/rand\"\n",
    "\n",
    "    \"github.com/janpfeifer/gonb/gonbui\"\n",
    "    \"gonum.org/v1/plot\"\n",
    "    \"gonum.org/v1/plot/plotter\"\n",
    "    \"gonum.org/v1/plot/plotutil\"\n",
    "    \"gonum.org/v1/plot/vg\"\n",
    ")\n",
    "\n",
    "// randomPoints returns some random x, y points.\n",
    "func randomPoints(n int) plotter.XYs {\n",
    "    pts := make(plotter.XYs, n)\n",
    "    for i := range pts {\n",
    "        if i == 0 {\n",
    "            pts[i].X = rand.Float64()\n",
    "        } else {\n",
    "            pts[i].X = pts[i-1].X + rand.Float64()\n",
    "        }\n",
    "        pts[i].Y = pts[i].X + 10*rand.Float64()\n",
    "    }\n",
    "    return pts\n",
    "}\n",
    "\n",
    "func GonumPlotExample(width, height int, format string) []byte {\n",
    "    rand.Seed(int64(0))\n",
    "\n",
    "    p := plot.New()\n",
    "\n",
    "    p.Title.Text = \"Plotutil example\"\n",
    "    p.X.Label.Text = \"X\"\n",
    "    p.Y.Label.Text = \"Y\"\n",
    "\n",
    "    err := plotutil.AddLinePoints(p,\n",
    "        \"First\", randomPoints(15),\n",
    "        \"Second\", randomPoints(15),\n",
    "        \"Third\", randomPoints(15))\n",
    "    if err != nil {\n",
    "        panic(err)\n",
    "    }\n",
    "    \n",
    "    buf := bytes.NewBuffer(nil)\n",
    "    writerTo, err := p.WriterTo(vg.Points(float64(width)), vg.Points(float64(height)), format)\n",
    "    if err != nil {\n",
    "        panic(err)\n",
    "    }\n",
    "    writerTo.WriteTo(buf)\n",
    "    return buf.Bytes()\n",
    "}\n",
    "\n",
    "%%\n",
    "gonbui.DisplayPng(GonumPlotExample(400, 200, \"png\"))"
   ]
  },
  {
   "cell_type": "markdown",
   "id": "c311053c-84f4-43d4-84a3-87e9d987907f",
   "metadata": {},
   "source": [
    "The version in SVG looks better though:"
   ]
  },
  {
   "cell_type": "code",
   "execution_count": 18,
   "id": "b5e2269c-3f8c-4f61-9b73-317d0c71498c",
   "metadata": {},
   "outputs": [
    {
     "data": {
      "text/html": [
       "<div><?xml version=\"1.0\"?>\n",
       "<!-- Generated by SVGo and Plotinum VG -->\n",
       "<svg width=\"400pt\" height=\"200pt\" viewBox=\"0 0 400 200\"\n",
       "\txmlns=\"http://www.w3.org/2000/svg\"\n",
       "\txmlns:xlink=\"http://www.w3.org/1999/xlink\">\n",
       "<g transform=\"scale(1, -1) translate(0, -200)\">\n",
       "<path d=\"M0,0L400,0L400,200L0,200Z\" style=\"fill:#FFFFFF\" />\n",
       "<text x=\"160.5\" y=\"-190.61\" transform=\"scale(1, -1)\"\n",
       "\tstyle=\"font-family:Liberation Serif;font-variant:normal;font-weight:normal;font-style:normal;font-size:12px\">Plotutil example</text>\n",
       "<text x=\"216.73\" y=\"-3.9023\" transform=\"scale(1, -1)\"\n",
       "\tstyle=\"font-family:Liberation Serif;font-variant:normal;font-weight:normal;font-style:normal;font-size:12px\">X</text>\n",
       "<text x=\"66.253\" y=\"-16.541\" transform=\"scale(1, -1)\"\n",
       "\tstyle=\"font-family:Liberation Serif;font-variant:normal;font-weight:normal;font-style:normal;font-size:10px\">1</text>\n",
       "<text x=\"204.57\" y=\"-16.541\" transform=\"scale(1, -1)\"\n",
       "\tstyle=\"font-family:Liberation Serif;font-variant:normal;font-weight:normal;font-style:normal;font-size:10px\">4</text>\n",
       "<text x=\"342.88\" y=\"-16.541\" transform=\"scale(1, -1)\"\n",
       "\tstyle=\"font-family:Liberation Serif;font-variant:normal;font-weight:normal;font-style:normal;font-size:10px\">7</text>\n",
       "<path d=\"M68.753,24.363L68.753,32.363\" style=\"fill:none;stroke:#000000;stroke-width:0.5\" />\n",
       "<path d=\"M207.07,24.363L207.07,32.363\" style=\"fill:none;stroke:#000000;stroke-width:0.5\" />\n",
       "<path d=\"M345.38,24.363L345.38,32.363\" style=\"fill:none;stroke:#000000;stroke-width:0.5\" />\n",
       "<path d=\"M114.86,28.363L114.86,32.363\" style=\"fill:none;stroke:#000000;stroke-width:0.5\" />\n",
       "<path d=\"M160.96,28.363L160.96,32.363\" style=\"fill:none;stroke:#000000;stroke-width:0.5\" />\n",
       "<path d=\"M253.17,28.363L253.17,32.363\" style=\"fill:none;stroke:#000000;stroke-width:0.5\" />\n",
       "<path d=\"M299.27,28.363L299.27,32.363\" style=\"fill:none;stroke:#000000;stroke-width:0.5\" />\n",
       "<path d=\"M391.48,28.363L391.48,32.363\" style=\"fill:none;stroke:#000000;stroke-width:0.5\" />\n",
       "<path d=\"M44.635,32.363L397.5,32.363\" style=\"fill:none;stroke:#000000;stroke-width:0.5\" />\n",
       "<g transform=\"rotate(90)\">\n",
       "<text x=\"107.83\" y=\"9.3867\" transform=\"scale(1, -1)\"\n",
       "\tstyle=\"font-family:Liberation Serif;font-variant:normal;font-weight:normal;font-style:normal;font-size:12px\">Y</text>\n",
       "</g>\n",
       "<text x=\"20.885\" y=\"-50.736\" transform=\"scale(1, -1)\"\n",
       "\tstyle=\"font-family:Liberation Serif;font-variant:normal;font-weight:normal;font-style:normal;font-size:10px\">3</text>\n",
       "<text x=\"20.885\" y=\"-108.05\" transform=\"scale(1, -1)\"\n",
       "\tstyle=\"font-family:Liberation Serif;font-variant:normal;font-weight:normal;font-style:normal;font-size:10px\">9</text>\n",
       "<text x=\"15.885\" y=\"-165.36\" transform=\"scale(1, -1)\"\n",
       "\tstyle=\"font-family:Liberation Serif;font-variant:normal;font-weight:normal;font-style:normal;font-size:10px\">15</text>\n",
       "<path d=\"M28.385,53.021L36.385,53.021\" style=\"fill:none;stroke:#000000;stroke-width:0.5\" />\n",
       "<path d=\"M28.385,110.33L36.385,110.33\" style=\"fill:none;stroke:#000000;stroke-width:0.5\" />\n",
       "<path d=\"M28.385,167.64L36.385,167.64\" style=\"fill:none;stroke:#000000;stroke-width:0.5\" />\n",
       "<path d=\"M32.385,81.676L36.385,81.676\" style=\"fill:none;stroke:#000000;stroke-width:0.5\" />\n",
       "<path d=\"M32.385,138.99L36.385,138.99\" style=\"fill:none;stroke:#000000;stroke-width:0.5\" />\n",
       "<path d=\"M36.385,40.113L36.385,184.21\" style=\"fill:none;stroke:#000000;stroke-width:0.5\" />\n",
       "<path d=\"M44.635,115.5L64.956,45.458L71.454,52.584L75.892,40.113L93.503,121.69L133.16,54.841L171.47,131.95L212.77,128.62L224.93,155.61L230.14,96.862L251.67,75.552L287.52,91.382L311.46,121.71L351.76,98.7L397.5,182.6\" style=\"fill:none;stroke:#F15A60\" />\n",
       "<path d=\"M47.135,115.5A2.5,2.5 0 1 1 42.135,115.5A2.5,2.5 0 1 1 47.135,115.5Z\" style=\"fill:none;stroke:#F15A60;stroke-width:0.5\" />\n",
       "<path d=\"M67.456,45.458A2.5,2.5 0 1 1 62.456,45.458A2.5,2.5 0 1 1 67.456,45.458Z\" style=\"fill:none;stroke:#F15A60;stroke-width:0.5\" />\n",
       "<path d=\"M73.954,52.584A2.5,2.5 0 1 1 68.954,52.584A2.5,2.5 0 1 1 73.954,52.584Z\" style=\"fill:none;stroke:#F15A60;stroke-width:0.5\" />\n",
       "<path d=\"M78.392,40.113A2.5,2.5 0 1 1 73.392,40.113A2.5,2.5 0 1 1 78.392,40.113Z\" style=\"fill:none;stroke:#F15A60;stroke-width:0.5\" />\n",
       "<path d=\"M96.003,121.69A2.5,2.5 0 1 1 91.003,121.69A2.5,2.5 0 1 1 96.003,121.69Z\" style=\"fill:none;stroke:#F15A60;stroke-width:0.5\" />\n",
       "<path d=\"M135.66,54.841A2.5,2.5 0 1 1 130.66,54.841A2.5,2.5 0 1 1 135.66,54.841Z\" style=\"fill:none;stroke:#F15A60;stroke-width:0.5\" />\n",
       "<path d=\"M173.97,131.95A2.5,2.5 0 1 1 168.97,131.95A2.5,2.5 0 1 1 173.97,131.95Z\" style=\"fill:none;stroke:#F15A60;stroke-width:0.5\" />\n",
       "<path d=\"M215.27,128.62A2.5,2.5 0 1 1 210.27,128.62A2.5,2.5 0 1 1 215.27,128.62Z\" style=\"fill:none;stroke:#F15A60;stroke-width:0.5\" />\n",
       "<path d=\"M227.43,155.61A2.5,2.5 0 1 1 222.43,155.61A2.5,2.5 0 1 1 227.43,155.61Z\" style=\"fill:none;stroke:#F15A60;stroke-width:0.5\" />\n",
       "<path d=\"M232.64,96.862A2.5,2.5 0 1 1 227.64,96.862A2.5,2.5 0 1 1 232.64,96.862Z\" style=\"fill:none;stroke:#F15A60;stroke-width:0.5\" />\n",
       "<path d=\"M254.17,75.552A2.5,2.5 0 1 1 249.17,75.552A2.5,2.5 0 1 1 254.17,75.552Z\" style=\"fill:none;stroke:#F15A60;stroke-width:0.5\" />\n",
       "<path d=\"M290.02,91.382A2.5,2.5 0 1 1 285.02,91.382A2.5,2.5 0 1 1 290.02,91.382Z\" style=\"fill:none;stroke:#F15A60;stroke-width:0.5\" />\n",
       "<path d=\"M313.96,121.71A2.5,2.5 0 1 1 308.96,121.71A2.5,2.5 0 1 1 313.96,121.71Z\" style=\"fill:none;stroke:#F15A60;stroke-width:0.5\" />\n",
       "<path d=\"M354.26,98.7A2.5,2.5 0 1 1 349.26,98.7A2.5,2.5 0 1 1 354.26,98.7Z\" style=\"fill:none;stroke:#F15A60;stroke-width:0.5\" />\n",
       "<path d=\"M400,182.6A2.5,2.5 0 1 1 395,182.6A2.5,2.5 0 1 1 400,182.6Z\" style=\"fill:none;stroke:#F15A60;stroke-width:0.5\" />\n",
       "<path d=\"M57.169,109.64L98.751,92.64L105.46,55.949L119.34,83.728L133.07,124.53L139.31,64.35L183.15,125.42L202.21,137.25L209.7,81.321L230.03,82.487L255.24,153.26L298.52,136.9L323.72,156.81L337.54,130L340.78,94.047\" style=\"fill:none;stroke:#7AC36A;stroke-dasharray:6,2\" />\n",
       "<path d=\"M55.035,107.5L59.303,107.5L59.303,111.77L55.035,111.77Z\" style=\"fill:none;stroke:#7AC36A;stroke-width:0.5\" />\n",
       "<path d=\"M96.617,90.507L100.88,90.507L100.88,94.774L96.617,94.774Z\" style=\"fill:none;stroke:#7AC36A;stroke-width:0.5\" />\n",
       "<path d=\"M103.32,53.815L107.59,53.815L107.59,58.082L103.32,58.082Z\" style=\"fill:none;stroke:#7AC36A;stroke-width:0.5\" />\n",
       "<path d=\"M117.21,81.594L121.48,81.594L121.48,85.862L117.21,85.862Z\" style=\"fill:none;stroke:#7AC36A;stroke-width:0.5\" />\n",
       "<path d=\"M130.94,122.39L135.2,122.39L135.2,126.66L130.94,126.66Z\" style=\"fill:none;stroke:#7AC36A;stroke-width:0.5\" />\n",
       "<path d=\"M137.17,62.216L141.44,62.216L141.44,66.483L137.17,66.483Z\" style=\"fill:none;stroke:#7AC36A;stroke-width:0.5\" />\n",
       "<path d=\"M181.01,123.29L185.28,123.29L185.28,127.55L181.01,127.55Z\" style=\"fill:none;stroke:#7AC36A;stroke-width:0.5\" />\n",
       "<path d=\"M200.07,135.11L204.34,135.11L204.34,139.38L200.07,139.38Z\" style=\"fill:none;stroke:#7AC36A;stroke-width:0.5\" />\n",
       "<path d=\"M207.57,79.187L211.83,79.187L211.83,83.455L207.57,83.455Z\" style=\"fill:none;stroke:#7AC36A;stroke-width:0.5\" />\n",
       "<path d=\"M227.9,80.353L232.16,80.353L232.16,84.621L227.9,84.621Z\" style=\"fill:none;stroke:#7AC36A;stroke-width:0.5\" />\n",
       "<path d=\"M253.1,151.12L257.37,151.12L257.37,155.39L253.1,155.39Z\" style=\"fill:none;stroke:#7AC36A;stroke-width:0.5\" />\n",
       "<path d=\"M296.38,134.77L300.65,134.77L300.65,139.04L296.38,139.04Z\" style=\"fill:none;stroke:#7AC36A;stroke-width:0.5\" />\n",
       "<path d=\"M321.58,154.68L325.85,154.68L325.85,158.94L321.58,158.94Z\" style=\"fill:none;stroke:#7AC36A;stroke-width:0.5\" />\n",
       "<path d=\"M335.4,127.86L339.67,127.86L339.67,132.13L335.4,132.13Z\" style=\"fill:none;stroke:#7AC36A;stroke-width:0.5\" />\n",
       "<path d=\"M338.65,91.913L342.92,91.913L342.92,96.181L338.65,96.181Z\" style=\"fill:none;stroke:#7AC36A;stroke-width:0.5\" />\n",
       "<path d=\"M51.213,96.769L66.633,92.392L82.966,56.714L87.957,51.774L133.7,102.46L156.27,142.85L194.75,68.156L199.03,90.686L238.11,92.553L280.48,168.9L295.94,82.386L308.12,132.24L338.6,138L367.89,160.44L383.57,184.21\" style=\"fill:none;stroke:#5A9BD4;stroke-dasharray:2,2\" />\n",
       "<path d=\"M51.213,99.894L48.507,95.206L53.919,95.206Z\" style=\"fill:none;stroke:#5A9BD4;stroke-width:0.5\" />\n",
       "<path d=\"M66.633,95.517L63.927,90.829L69.34,90.829Z\" style=\"fill:none;stroke:#5A9BD4;stroke-width:0.5\" />\n",
       "<path d=\"M82.966,59.839L80.26,55.152L85.672,55.152Z\" style=\"fill:none;stroke:#5A9BD4;stroke-width:0.5\" />\n",
       "<path d=\"M87.957,54.899L85.25,50.211L90.663,50.211Z\" style=\"fill:none;stroke:#5A9BD4;stroke-width:0.5\" />\n",
       "<path d=\"M133.7,105.59L131,100.9L136.41,100.9Z\" style=\"fill:none;stroke:#5A9BD4;stroke-width:0.5\" />\n",
       "<path d=\"M156.27,145.97L153.56,141.29L158.98,141.29Z\" style=\"fill:none;stroke:#5A9BD4;stroke-width:0.5\" />\n",
       "<path d=\"M194.75,71.281L192.05,66.593L197.46,66.593Z\" style=\"fill:none;stroke:#5A9BD4;stroke-width:0.5\" />\n",
       "<path d=\"M199.03,93.811L196.33,89.124L201.74,89.124Z\" style=\"fill:none;stroke:#5A9BD4;stroke-width:0.5\" />\n",
       "<path d=\"M238.11,95.678L235.4,90.991L240.82,90.991Z\" style=\"fill:none;stroke:#5A9BD4;stroke-width:0.5\" />\n",
       "<path d=\"M280.48,172.03L277.77,167.34L283.19,167.34Z\" style=\"fill:none;stroke:#5A9BD4;stroke-width:0.5\" />\n",
       "<path d=\"M295.94,85.511L293.23,80.823L298.64,80.823Z\" style=\"fill:none;stroke:#5A9BD4;stroke-width:0.5\" />\n",
       "<path d=\"M308.12,135.36L305.41,130.67L310.82,130.67Z\" style=\"fill:none;stroke:#5A9BD4;stroke-width:0.5\" />\n",
       "<path d=\"M338.6,141.13L335.89,136.44L341.31,136.44Z\" style=\"fill:none;stroke:#5A9BD4;stroke-width:0.5\" />\n",
       "<path d=\"M367.89,163.57L365.19,158.88L370.6,158.88Z\" style=\"fill:none;stroke:#5A9BD4;stroke-width:0.5\" />\n",
       "<path d=\"M383.57,187.34L380.87,182.65L386.28,182.65Z\" style=\"fill:none;stroke:#5A9BD4;stroke-width:0.5\" />\n",
       "<path d=\"M380,63.072L400,63.072\" style=\"fill:none;stroke:#F15A60\" />\n",
       "<path d=\"M392.5,63.072A2.5,2.5 0 1 1 387.5,63.072A2.5,2.5 0 1 1 392.5,63.072Z\" style=\"fill:none;stroke:#F15A60;stroke-width:0.5\" />\n",
       "<text x=\"354.99\" y=\"-60.585\" transform=\"scale(1, -1)\"\n",
       "\tstyle=\"font-family:Liberation Serif;font-variant:normal;font-weight:normal;font-style:normal;font-size:12px\">First</text>\n",
       "<path d=\"M380,52.889L400,52.889\" style=\"fill:none;stroke:#7AC36A;stroke-dasharray:6,2\" />\n",
       "<path d=\"M387.87,50.755L392.13,50.755L392.13,55.023L387.87,55.023Z\" style=\"fill:none;stroke:#7AC36A;stroke-width:0.5\" />\n",
       "<text x=\"341.67\" y=\"-50.401\" transform=\"scale(1, -1)\"\n",
       "\tstyle=\"font-family:Liberation Serif;font-variant:normal;font-weight:normal;font-style:normal;font-size:12px\">Second</text>\n",
       "<path d=\"M380,42.705L400,42.705\" style=\"fill:none;stroke:#5A9BD4;stroke-dasharray:2,2\" />\n",
       "<path d=\"M390,45.83L387.29,41.143L392.71,41.143Z\" style=\"fill:none;stroke:#5A9BD4;stroke-width:0.5\" />\n",
       "<text x=\"350.34\" y=\"-40.218\" transform=\"scale(1, -1)\"\n",
       "\tstyle=\"font-family:Liberation Serif;font-variant:normal;font-weight:normal;font-style:normal;font-size:12px\">Third</text>\n",
       "</g>\n",
       "</svg>\n",
       "</div>"
      ]
     },
     "metadata": {},
     "output_type": "display_data"
    }
   ],
   "source": [
    "%%\n",
    "gonbui.DisplaySvg(string(GonumPlotExample(400, 200, \"svg\")))"
   ]
  },
  {
   "cell_type": "markdown",
   "id": "565909db-5b70-442e-a717-2873f21410c5",
   "metadata": {},
   "source": [
    "### Plotting with [Plotly](https://plotly.com/)\n",
    "\n",
    "[Plotly](https://plotly.com/) has really fancy plots, worth exploring for generating exquisite reports.\n",
    "\n",
    "Currently supported using [`github.com/MetalBlueberry/go-plotly`](https://github.com/MetalBlueberry/go-plotly) library.\n",
    "\n",
    "**Experimental**: but if you bump into any issues please report, and we'll try to fix it."
   ]
  },
  {
   "cell_type": "code",
   "execution_count": 19,
   "id": "ae872acc-d74d-4215-a7d7-bec772d9c191",
   "metadata": {},
   "outputs": [
    {
     "data": {
      "text/html": [
       "<div id=\"bb7ff3e0\"></div>"
      ]
     },
     "metadata": {},
     "output_type": "display_data"
    },
    {
     "data": {
      "text/html": [
       "<script charset=\"UTF-8\">\n",
       "(() => {\n",
       "\tconst src=\"https://cdn.plot.ly/plotly-2.34.0.min.js\";\n",
       "\tvar runJSFn = function(module) {\n",
       "\t\t\n",
       "\tif (!module) {\n",
       "\t\tmodule = window.Plotly;\n",
       "\t}\n",
       "\tlet data = JSON.parse('{\"data\":[{\"type\":\"bar\",\"x\":[1,2,3],\"y\":[1,2,3]}],\"layout\":{\"template\":{\"data\":{\"bar\":[{\"error_x\":{\"color\":\"#f2f5fa\"},\"error_y\":{\"color\":\"#f2f5fa\"},\"marker\":{\"line\":{\"color\":\"rgb(17,17,17)\",\"width\":0.5},\"pattern\":{\"fillmode\":\"overlay\",\"size\":10,\"solidity\":0.2}},\"type\":\"bar\"}],\"barpolar\":[{\"marker\":{\"line\":{\"color\":\"rgb(17,17,17)\",\"width\":0.5},\"pattern\":{\"fillmode\":\"overlay\",\"size\":10,\"solidity\":0.2}},\"type\":\"barpolar\"}],\"carpet\":[{\"aaxis\":{\"endlinecolor\":\"#A2B1C6\",\"gridcolor\":\"#506784\",\"linecolor\":\"#506784\",\"minorgridcolor\":\"#506784\",\"startlinecolor\":\"#A2B1C6\"},\"baxis\":{\"endlinecolor\":\"#A2B1C6\",\"gridcolor\":\"#506784\",\"linecolor\":\"#506784\",\"minorgridcolor\":\"#506784\",\"startlinecolor\":\"#A2B1C6\"},\"type\":\"carpet\"}],\"choropleth\":[{\"colorbar\":{\"outlinewidth\":0,\"ticks\":\"\"},\"type\":\"choropleth\"}],\"contour\":[{\"colorbar\":{\"outlinewidth\":0,\"ticks\":\"\"},\"colorscale\":[[0,\"#0d0887\"],[0.1111111111111111,\"#46039f\"],[0.2222222222222222,\"#7201a8\"],[0.3333333333333333,\"#9c179e\"],[0.4444444444444444,\"#bd3786\"],[0.5555555555555556,\"#d8576b\"],[0.6666666666666666,\"#ed7953\"],[0.7777777777777778,\"#fb9f3a\"],[0.8888888888888888,\"#fdca26\"],[1,\"#f0f921\"]],\"type\":\"contour\"}],\"contourcarpet\":[{\"colorbar\":{\"outlinewidth\":0,\"ticks\":\"\"},\"type\":\"contourcarpet\"}],\"heatmap\":[{\"colorbar\":{\"outlinewidth\":0,\"ticks\":\"\"},\"colorscale\":[[0,\"#0d0887\"],[0.1111111111111111,\"#46039f\"],[0.2222222222222222,\"#7201a8\"],[0.3333333333333333,\"#9c179e\"],[0.4444444444444444,\"#bd3786\"],[0.5555555555555556,\"#d8576b\"],[0.6666666666666666,\"#ed7953\"],[0.7777777777777778,\"#fb9f3a\"],[0.8888888888888888,\"#fdca26\"],[1,\"#f0f921\"]],\"type\":\"heatmap\"}],\"histogram\":[{\"marker\":{\"pattern\":{\"fillmode\":\"overlay\",\"size\":10,\"solidity\":0.2}},\"type\":\"histogram\"}],\"histogram2d\":[{\"colorbar\":{\"outlinewidth\":0,\"ticks\":\"\"},\"colorscale\":[[0,\"#0d0887\"],[0.1111111111111111,\"#46039f\"],[0.2222222222222222,\"#7201a8\"],[0.3333333333333333,\"#9c179e\"],[0.4444444444444444,\"#bd3786\"],[0.5555555555555556,\"#d8576b\"],[0.6666666666666666,\"#ed7953\"],[0.7777777777777778,\"#fb9f3a\"],[0.8888888888888888,\"#fdca26\"],[1,\"#f0f921\"]],\"type\":\"histogram2d\"}],\"histogram2dcontour\":[{\"colorbar\":{\"outlinewidth\":0,\"ticks\":\"\"},\"colorscale\":[[0,\"#0d0887\"],[0.1111111111111111,\"#46039f\"],[0.2222222222222222,\"#7201a8\"],[0.3333333333333333,\"#9c179e\"],[0.4444444444444444,\"#bd3786\"],[0.5555555555555556,\"#d8576b\"],[0.6666666666666666,\"#ed7953\"],[0.7777777777777778,\"#fb9f3a\"],[0.8888888888888888,\"#fdca26\"],[1,\"#f0f921\"]],\"type\":\"histogram2dcontour\"}],\"mesh3d\":[{\"colorbar\":{\"outlinewidth\":0,\"ticks\":\"\"},\"type\":\"mesh3d\"}],\"parcoords\":[{\"line\":{\"colorbar\":{\"outlinewidth\":0,\"ticks\":\"\"}},\"type\":\"parcoords\"}],\"pie\":[{\"automargin\":true,\"type\":\"pie\"}],\"scatter\":[{\"marker\":{\"line\":{\"color\":\"#283442\"}},\"type\":\"scatter\"}],\"scatter3d\":[{\"line\":{\"colorbar\":{\"outlinewidth\":0,\"ticks\":\"\"}},\"marker\":{\"colorbar\":{\"outlinewidth\":0,\"ticks\":\"\"}},\"type\":\"scatter3d\"}],\"scattercarpet\":[{\"marker\":{\"colorbar\":{\"outlinewidth\":0,\"ticks\":\"\"}},\"type\":\"scattercarpet\"}],\"scattergeo\":[{\"marker\":{\"colorbar\":{\"outlinewidth\":0,\"ticks\":\"\"}},\"type\":\"scattergeo\"}],\"scattergl\":[{\"marker\":{\"line\":{\"color\":\"#283442\"}},\"type\":\"scattergl\"}],\"scattermap\":[{\"marker\":{\"colorbar\":{\"outlinewidth\":0,\"ticks\":\"\"}},\"type\":\"scattermap\"}],\"scattermapbox\":[{\"marker\":{\"colorbar\":{\"outlinewidth\":0,\"ticks\":\"\"}},\"type\":\"scattermapbox\"}],\"scatterpolar\":[{\"marker\":{\"colorbar\":{\"outlinewidth\":0,\"ticks\":\"\"}},\"type\":\"scatterpolar\"}],\"scatterpolargl\":[{\"marker\":{\"colorbar\":{\"outlinewidth\":0,\"ticks\":\"\"}},\"type\":\"scatterpolargl\"}],\"scatterternary\":[{\"marker\":{\"colorbar\":{\"outlinewidth\":0,\"ticks\":\"\"}},\"type\":\"scatterternary\"}],\"surface\":[{\"colorbar\":{\"outlinewidth\":0,\"ticks\":\"\"},\"colorscale\":[[0,\"#0d0887\"],[0.1111111111111111,\"#46039f\"],[0.2222222222222222,\"#7201a8\"],[0.3333333333333333,\"#9c179e\"],[0.4444444444444444,\"#bd3786\"],[0.5555555555555556,\"#d8576b\"],[0.6666666666666666,\"#ed7953\"],[0.7777777777777778,\"#fb9f3a\"],[0.8888888888888888,\"#fdca26\"],[1,\"#f0f921\"]],\"type\":\"surface\"}],\"table\":[{\"cells\":{\"fill\":{\"color\":\"#506784\"},\"line\":{\"color\":\"rgb(17,17,17)\"}},\"header\":{\"fill\":{\"color\":\"#2a3f5f\"},\"line\":{\"color\":\"rgb(17,17,17)\"}},\"type\":\"table\"}]},\"layout\":{\"annotationdefaults\":{\"arrowcolor\":\"#f2f5fa\",\"arrowhead\":0,\"arrowwidth\":1},\"autotypenumbers\":\"strict\",\"coloraxis\":{\"colorbar\":{\"outlinewidth\":0,\"ticks\":\"\"}},\"colorscale\":{\"diverging\":[[0,\"#8e0152\"],[0.1,\"#c51b7d\"],[0.2,\"#de77ae\"],[0.3,\"#f1b6da\"],[0.4,\"#fde0ef\"],[0.5,\"#f7f7f7\"],[0.6,\"#e6f5d0\"],[0.7,\"#b8e186\"],[0.8,\"#7fbc41\"],[0.9,\"#4d9221\"],[1,\"#276419\"]],\"sequential\":[[0,\"#0d0887\"],[0.1111111111111111,\"#46039f\"],[0.2222222222222222,\"#7201a8\"],[0.3333333333333333,\"#9c179e\"],[0.4444444444444444,\"#bd3786\"],[0.5555555555555556,\"#d8576b\"],[0.6666666666666666,\"#ed7953\"],[0.7777777777777778,\"#fb9f3a\"],[0.8888888888888888,\"#fdca26\"],[1,\"#f0f921\"]],\"sequentialminus\":[[0,\"#0d0887\"],[0.1111111111111111,\"#46039f\"],[0.2222222222222222,\"#7201a8\"],[0.3333333333333333,\"#9c179e\"],[0.4444444444444444,\"#bd3786\"],[0.5555555555555556,\"#d8576b\"],[0.6666666666666666,\"#ed7953\"],[0.7777777777777778,\"#fb9f3a\"],[0.8888888888888888,\"#fdca26\"],[1,\"#f0f921\"]]},\"colorway\":[\"#636efa\",\"#EF553B\",\"#00cc96\",\"#ab63fa\",\"#FFA15A\",\"#19d3f3\",\"#FF6692\",\"#B6E880\",\"#FF97FF\",\"#FECB52\"],\"font\":{\"color\":\"#f2f5fa\"},\"geo\":{\"bgcolor\":\"rgb(17,17,17)\",\"lakecolor\":\"rgb(17,17,17)\",\"landcolor\":\"rgb(17,17,17)\",\"showlakes\":true,\"showland\":true,\"subunitcolor\":\"#506784\"},\"hoverlabel\":{\"align\":\"left\"},\"hovermode\":\"closest\",\"mapbox\":{\"style\":\"dark\"},\"paper_bgcolor\":\"rgb(17,17,17)\",\"plot_bgcolor\":\"rgb(17,17,17)\",\"polar\":{\"angularaxis\":{\"gridcolor\":\"#506784\",\"linecolor\":\"#506784\",\"ticks\":\"\"},\"bgcolor\":\"rgb(17,17,17)\",\"radialaxis\":{\"gridcolor\":\"#506784\",\"linecolor\":\"#506784\",\"ticks\":\"\"}},\"scene\":{\"xaxis\":{\"backgroundcolor\":\"rgb(17,17,17)\",\"gridcolor\":\"#506784\",\"gridwidth\":2,\"linecolor\":\"#506784\",\"showbackground\":true,\"ticks\":\"\",\"zerolinecolor\":\"#C8D4E3\"},\"yaxis\":{\"backgroundcolor\":\"rgb(17,17,17)\",\"gridcolor\":\"#506784\",\"gridwidth\":2,\"linecolor\":\"#506784\",\"showbackground\":true,\"ticks\":\"\",\"zerolinecolor\":\"#C8D4E3\"},\"zaxis\":{\"backgroundcolor\":\"rgb(17,17,17)\",\"gridcolor\":\"#506784\",\"gridwidth\":2,\"linecolor\":\"#506784\",\"showbackground\":true,\"ticks\":\"\",\"zerolinecolor\":\"#C8D4E3\"}},\"shapedefaults\":{\"line\":{\"color\":\"#f2f5fa\"}},\"sliderdefaults\":{\"bgcolor\":\"#C8D4E3\",\"bordercolor\":\"rgb(17,17,17)\",\"borderwidth\":1,\"tickwidth\":0},\"ternary\":{\"aaxis\":{\"gridcolor\":\"#506784\",\"linecolor\":\"#506784\",\"ticks\":\"\"},\"baxis\":{\"gridcolor\":\"#506784\",\"linecolor\":\"#506784\",\"ticks\":\"\"},\"bgcolor\":\"rgb(17,17,17)\",\"caxis\":{\"gridcolor\":\"#506784\",\"linecolor\":\"#506784\",\"ticks\":\"\"}},\"title\":{\"x\":0.05},\"updatemenudefaults\":{\"bgcolor\":\"#506784\",\"borderwidth\":0},\"xaxis\":{\"automargin\":true,\"gridcolor\":\"#283442\",\"linecolor\":\"#506784\",\"ticks\":\"\",\"title\":{\"standoff\":15},\"zerolinecolor\":\"#283442\",\"zerolinewidth\":2},\"yaxis\":{\"automargin\":true,\"gridcolor\":\"#283442\",\"linecolor\":\"#506784\",\"ticks\":\"\",\"title\":{\"standoff\":15},\"zerolinecolor\":\"#283442\",\"zerolinewidth\":2}}},\"title\":{\"text\":\"A Figure Specified By Go Struct\"}}}');\n",
       "\tmodule.newPlot('bb7ff3e0', data);\n",
       "\n",
       "\t}\n",
       "\t\n",
       "    if (typeof requirejs === \"function\") {\n",
       "        // Use RequireJS to load module.\n",
       "\t\tlet srcWithoutExtension = src.substring(0, src.lastIndexOf(\".js\"));\n",
       "        requirejs.config({\n",
       "            paths: {\n",
       "                'plotly': srcWithoutExtension\n",
       "            }\n",
       "        });\n",
       "        require(['plotly'], function(plotly) {\n",
       "            runJSFn(plotly)\n",
       "        });\n",
       "        return\n",
       "    }\n",
       "\n",
       "\tvar currentScripts = document.head.getElementsByTagName(\"script\");\n",
       "\tfor (const idx in currentScripts) {\n",
       "\t\tlet script = currentScripts[idx];\n",
       "\t\tif (script.src == src) {\n",
       "\t\t\trunJSFn(null);\n",
       "\t\t\treturn;\n",
       "\t\t}\n",
       "\t}\n",
       "\n",
       "\tvar script = document.createElement(\"script\");\n",
       "\n",
       "\tscript.charset = \"utf-8\";\n",
       "\t\n",
       "\tscript.src = src;\n",
       "\tscript.onload = script.onreadystatechange = function () { runJSFn(null); };\n",
       "\tdocument.head.appendChild(script);\t\n",
       "})();\n",
       "</script>"
      ]
     },
     "metadata": {},
     "output_type": "display_data"
    }
   ],
   "source": [
    "import (\n",
    "    \"github.com/janpfeifer/gonb/gonbui/plotly\"\n",
    "\tgrob \"github.com/MetalBlueberry/go-plotly/generated/v2.34.0/graph_objects\"\n",
    "\tptypes \"github.com/MetalBlueberry/go-plotly/pkg/types\"\n",
    ")\n",
    "\n",
    "%%\n",
    "fig := &grob.Fig{\n",
    "    Data: []ptypes.Trace{\n",
    "        &grob.Bar{\n",
    "            X: ptypes.DataArray([]float64{1, 2, 3}),\n",
    "            Y: ptypes.DataArray([]float64{1, 2, 3}),\n",
    "        },\n",
    "    },\n",
    "    Layout: &grob.Layout{\n",
    "        Title: &grob.LayoutTitle{\n",
    "            Text: \"A Figure Specified By Go Struct\",\n",
    "        },\n",
    "        Template: plotly.PlotlyDarkTheme,\n",
    "    },\n",
    "}\n",
    "plotly.DisplayFig(fig)"
   ]
  },
  {
   "cell_type": "markdown",
   "id": "aadf447d-22e4-486f-a749-36834d9bf24c",
   "metadata": {},
   "source": [
    "### Desktop App Development with Fyne\n",
    "\n",
    "If using a Jupyter-Lab ran with access to X11, one can also experiment with desktop UI programs. Let's try the [*Hello World*](https://developer.fyne.io/started/hello) from [Fyne](https://fyne.io/), a popular, high quality graphical application toolkit for Go.\n",
    "\n",
    "> **Important Note**: Disabled by default: since this have many requirements, and won't run in a test environment. But feel free to\n",
    "> copy&paste the code to a new cell and run it!\n",
    "\n",
    "> **Note 1**: Fyne needs to link many C++ libraries, so the firt time this is used it takes a few minutes to compile everything. But\n",
    "> afterwards it becomes immediate and interactive.\n",
    "\n",
    "> **Note 2**: To compile it it requires some libraries present in the system. See [Fyne's Getting Started](https://developer.fyne.io/started/).\n",
    "\n",
    "> **Note 3**: Remember to close the newly created small \"Hello World!\" window: GoNB is blocking while running a cell, and the cell only finishes to execute when the window is closed. Here we add a timeout just in case.\n",
    "\n",
    "```go\n",
    "import (\n",
    "    \"log\"\n",
    "    \"time\"\n",
    "\n",
    "    \"fyne.io/fyne/v2/app\"\n",
    "    \"fyne.io/fyne/v2/widget\"\n",
    ")\n",
    "\n",
    "%%\n",
    "a := app.New()\n",
    "w := a.NewWindow(\"Hello World\")\n",
    "go func() {\n",
    "    <- time.Tick(10 * time.Second)\n",
    "    log.Printf(\"Timed out, exiting...\")\n",
    "    os.Exit(1)\n",
    "}()\n",
    "\n",
    "w.SetContent(widget.NewLabel(\"Hello World!\"))\n",
    "w.ShowAndRun()\n",
    "fmt.Println(\"Goodbye!\")\n",
    "```\n"
   ]
  },
  {
   "cell_type": "markdown",
   "id": "dcccb4f1-a9b6-40e4-9d57-013e7103c4a9",
   "metadata": {},
   "source": [
    "## Init Functions\n",
    "\n",
    "Since there is always only one definition per function name, it's not possible for\n",
    "each cell to have it's own init() function.\n",
    "Instead GoNB converts any function named `func init_something()` to `init()` before\n",
    "compiling and executing the cells. \n",
    "This way each cell can create its own `func init_...()` and have it called at every\n",
    "cell execution.\n",
    "\n",
    "Example:"
   ]
  },
  {
   "cell_type": "code",
   "execution_count": 20,
   "id": "03452fc9-f43c-4fb1-b1ce-50df961a214d",
   "metadata": {},
   "outputs": [
    {
     "name": "stdout",
     "output_type": "stream",
     "text": [
      "init_a\n",
      "main\n"
     ]
    }
   ],
   "source": [
    "func init_a() {\n",
    "    fmt.Println(\"init_a\")\n",
    "}\n",
    "%%\n",
    "fmt.Println(\"main\")"
   ]
  },
  {
   "cell_type": "code",
   "execution_count": 21,
   "id": "13a230fd-1179-4ec3-b24c-4f89e0913920",
   "metadata": {},
   "outputs": [
    {
     "name": "stdout",
     "output_type": "stream",
     "text": [
      "init_a\n",
      "init_b\n",
      "main\n"
     ]
    }
   ],
   "source": [
    "func init_b() {\n",
    "    fmt.Println(\"init_b\")\n",
    "}\n",
    "%%\n",
    "fmt.Println(\"main\")"
   ]
  },
  {
   "cell_type": "markdown",
   "id": "00882646-c238-48e1-a2ee-18944d9fd302",
   "metadata": {},
   "source": [
    "Now, we don't want to have `init_a` and `init_b` on all of our cells below. So we remove those definitions -- see how to manage memorized definitions using `%help`, in the \"Managing Memorized Definitions\" section, it's displayed at the end of the tutorial."
   ]
  },
  {
   "cell_type": "code",
   "execution_count": 22,
   "id": "0b8683aa-0bf0-4058-8992-1c5b9e2c2b0c",
   "metadata": {},
   "outputs": [
    {
     "name": "stdout",
     "output_type": "stream",
     "text": [
      ". removed func init_a\n",
      ". removed func init_b\n"
     ]
    }
   ],
   "source": [
    "%rm init_a init_b"
   ]
  },
  {
   "cell_type": "markdown",
   "id": "0037e1db-61a2-4fd8-bc6f-d8a45eda5b5d",
   "metadata": {},
   "source": [
    "## Flags\n",
    "\n",
    "The `%%` command can also be used to set arguments to the execution of the cell. This makes it easy to configure \n",
    "different runs of the same code using flags. This is something handy when testing or developing code that is shared\n",
    "with a normal code that already used flags.\n",
    "\n",
    "Also,`%%` not only wraps the code following it in a `func main() { ... }` but also automatically adds a call to `flag.Parse()`. \n",
    "\n",
    "Example:"
   ]
  },
  {
   "cell_type": "code",
   "execution_count": 23,
   "id": "4e2e9992-3a74-4825-87d8-773bdc30b05f",
   "metadata": {
    "tags": []
   },
   "outputs": [
    {
     "name": "stdout",
     "output_type": "stream",
     "text": [
      "Hello world!\n"
     ]
    }
   ],
   "source": [
    "import (\n",
    "    \"flag\"\n",
    "    \"fmt\"\n",
    ")\n",
    "\n",
    "var flagWho = flag.String(\"who\", \"\", \"Your name!\")\n",
    "\n",
    "%% --who=world\n",
    "fmt.Printf(\"Hello %s!\\n\", *flagWho)"
   ]
  },
  {
   "cell_type": "markdown",
   "id": "7d42c111-54f3-4a1d-b99d-4005ac49f9e5",
   "metadata": {},
   "source": [
    "Alternatively one can also set the arguments for execution with `%args`, if not using `%%`, as in:"
   ]
  },
  {
   "cell_type": "code",
   "execution_count": 24,
   "id": "27c7aaad-b0d3-46f0-b1f6-dc66722fe5bd",
   "metadata": {
    "tags": []
   },
   "outputs": [
    {
     "name": "stdout",
     "output_type": "stream",
     "text": [
      "Where is Wally?"
     ]
    }
   ],
   "source": [
    "%args --who=Wally\n",
    "\n",
    "func main() {\n",
    "    flag.Parse()\n",
    "    fmt.Printf(\"Where is %s?\", *flagWho)\n",
    "}"
   ]
  },
  {
   "cell_type": "markdown",
   "id": "871031ff-5012-4d49-a398-9c7e1a7614ca",
   "metadata": {},
   "source": [
    "## Interacting with the DOM \n",
    "\n",
    "The package `gonbui/dom` allows one to manipulate the DOM in the browser in arbitrary ways. \n",
    "\n",
    "It is very useful if implementing new widgets. Things to check out for:\n",
    "\n",
    "* `dom.TransientJavascript`: Executes Javascript in a transient cell output and then erases it (so it's not saved with the notebook).\n",
    "* `dom.Append`: Appends HTML to a any element identified by an Id.\n",
    "* `dom.SetInnerHtml` and `dom.GetInnerHtml`: Manipulate the `innerHTML` of any element.\n",
    "* `dom.Persist`: Takes the `innerHTML` of a transient element, and then displays it normally with `gonbui.DisplayHtml`, so it can be saved with the notebook. Useful if using Javascript libraries (plotting for instance) that dyncamically generate content.\n",
    "\n",
    "Check the library documentation for more! "
   ]
  },
  {
   "cell_type": "markdown",
   "id": "f873cdb6-9bc7-45a0-9d93-2053099498d8",
   "metadata": {},
   "source": [
    "## Widgets\n",
    "\n",
    "**GoNB** allows you to use the browser not only to output rich content (HTML, Widgets), but also interact with HTML UI elements.\n",
    "\n",
    "It provides the `widgets` package with a few basic widgets for you to use, and a `gonbui/comms` package that you can use to create new widgets -- see `docs/FrontEndCommunication.md` file for more details on that.\n",
    "\n",
    "Let's reuse our Sine curve plotting function below, and connect it to a slider. And then\n",
    "create a button to stop the interaction when we are done.\n",
    "\n",
    "(To allow this notebook to run automatically, we add a timeout -- if your playing with\n",
    "the tutorial with a live Jupyter Notebook, feel free to change it or remove the timeout)"
   ]
  },
  {
   "cell_type": "code",
   "execution_count": 25,
   "id": "632205e9-a72c-4e1a-a429-6a02394ce44a",
   "metadata": {},
   "outputs": [
    {
     "data": {
      "text/html": [
       "<div id=\"dom.transient_div_d691d2c8\"></div>"
      ]
     },
     "metadata": {},
     "output_type": "display_data"
    },
    {
     "data": {
      "text/html": []
     },
     "metadata": {},
     "output_type": "display_data"
    },
    {
     "data": {
      "text/html": []
     },
     "metadata": {},
     "output_type": "display_data"
    },
    {
     "data": {
      "text/html": []
     },
     "metadata": {},
     "output_type": "display_data"
    },
    {
     "data": {
      "text/html": [
       "<input type=\"range\" id=\"gonb_slider_a7de08eb\" min=\"0\" max=\"100\" value=\"50\">&nbsp;<span id=\"sin_freq\" style=\"font-family: monospace; font-style: italic; font-size: small; border: 1px solid; border-style: inset; padding-right:5px;\">  5.50</span>&nbsp;<button id=\"gonb_button_4009b829\" type=\"button\">Ok</button>"
      ]
     },
     "metadata": {},
     "output_type": "display_data"
    },
    {
     "data": {
      "text/html": [
       "<svg viewbox=\"0 0 800 240\" style=\"background-color:#f8f8f8\" preserveAspectRatio=\"xMidYMid meet\" xmlns=\"http://www.w3.org/2000/svg\" width=\"800\" height=\"240\"><defs><marker markerWidth=\"2%\" markerHeight=\"2%\" id=\"circle\" viewBox=\"0 0 10 10 \" refX=\"5\" refY=\"5\" markerUnits=\"userSpaceOnUse\"><circle stroke=\"black\" cx=\"5\" cy=\"5\" r=\"3\" fill=\"none\"/></marker><marker markerUnits=\"userSpaceOnUse\" markerWidth=\"2%\" markerHeight=\"2%\" id=\"filled-circle\" viewBox=\"0 0 10 10 \" refX=\"5\" refY=\"5\"><circle cx=\"5\" cy=\"5\" r=\"3\" fill=\"black\" stroke=\"none\"/></marker><marker id=\"square\" viewBox=\"0 0 10 10 \" refX=\"5\" refY=\"5\" markerUnits=\"userSpaceOnUse\" markerWidth=\"2%\" markerHeight=\"2%\"><rect width=\"6\" height=\"6\" fill=\"none\" stroke=\"black\" x=\"2\" y=\"2\"/></marker><marker refX=\"5\" refY=\"5\" markerUnits=\"userSpaceOnUse\" markerWidth=\"2%\" markerHeight=\"2%\" id=\"filled-square\" viewBox=\"0 0 10 10 \"><rect height=\"6\" fill=\"black\" stroke=\"none\" x=\"2\" y=\"2\" width=\"6\"/></marker></defs><g stroke=\"hsl(198, 47%, 65%)\" stroke-width=\"3.14px\" stroke-linecap=\"round\" stroke-linejoin=\"round\" transform=\"translate(64 176 )scale(1 -1 )\" fill=\"none\"><path d=\"M0.000000e+00,5.601382e+01 C1.131313e+00,5.917615e+01 4.525253e+00,6.903707e+01 6.787879e+00,7.498782e+01 C9.050505e+00,8.093858e+01 1.131313e+01,8.684513e+01 1.357576e+01,9.171837e+01 C1.583838e+01,9.659161e+01 1.810101e+01,1.010078e+02 2.036364e+01,1.042273e+02 C2.262626e+01,1.074468e+02 2.488889e+01,1.098504e+02 2.715152e+01,1.110355e+02 C2.941414e+01,1.122206e+02 3.167677e+01,1.123274e+02 3.393939e+01,1.113380e+02 C3.620202e+01,1.103486e+02 3.846465e+01,1.081460e+02 4.072727e+01,1.050991e+02 C4.298990e+01,1.020522e+02 4.525253e+01,9.780063e+01 4.751515e+01,9.305642e+01 C4.977778e+01,8.831222e+01 5.204040e+01,8.251441e+01 5.430303e+01,7.663388e+01 C5.656566e+01,7.075335e+01 5.882828e+01,6.409480e+01 6.109091e+01,5.777326e+01 C6.335354e+01,5.145171e+01 6.561616e+01,4.471971e+01 6.787879e+01,3.870460e+01 C7.014141e+01,3.268948e+01 7.240404e+01,2.668002e+01 7.466667e+01,2.168255e+01 C7.692929e+01,1.668509e+01 7.919192e+01,1.210871e+01 8.145455e+01,8.719788e+00 C8.371717e+01,5.330861e+00 8.597980e+01,2.728678e+00 8.824242e+01,1.348994e+00 C9.050505e+01,-3.068948e-02 9.276768e+01,-3.510054e-01 9.503030e+01,4.416857e-01 C9.729293e+01,1.234377e+00 9.955556e+01,3.233802e+00 1.018182e+02,6.105141e+00 C1.040808e+02,8.976480e+00 1.063434e+02,1.305924e+01 1.086061e+02,1.766972e+01 C1.108687e+02,2.228021e+01 1.131313e+02,2.796356e+01 1.153939e+02,3.376805e+01 C1.176566e+02,3.957254e+01 1.199192e+02,4.618449e+01 1.221818e+02,5.249668e+01 C1.244444e+02,5.880887e+01 1.267071e+02,6.556764e+01 1.289697e+02,7.164118e+01 C1.312323e+02,7.771472e+01 1.334949e+02,8.382115e+01 1.357576e+02,8.893792e+01 C1.380202e+02,9.405468e+01 1.402828e+02,9.878677e+01 1.425455e+02,1.023418e+02 C1.448081e+02,1.058968e+02 1.470707e+02,1.086950e+02 1.493333e+02,1.102679e+02 C1.515960e+02,1.118407e+02 1.538586e+02,1.123743e+02 1.561212e+02,1.117790e+02 C1.583838e+02,1.111838e+02 1.606465e+02,1.093896e+02 1.629091e+02,1.066966e+02 C1.651717e+02,1.040037e+02 1.674343e+02,1.000938e+02 1.696970e+02,9.562157e+01 C1.719596e+02,9.114936e+01 1.742222e+02,8.558608e+01 1.764848e+02,7.986334e+01 C1.787475e+02,7.414061e+01 1.810101e+02,6.758178e+01 1.832727e+02,6.128519e+01 C1.855354e+02,5.498859e+01 1.877980e+02,4.820972e+01 1.900606e+02,4.208375e+01 C1.923232e+02,3.595778e+01 1.945859e+02,2.976039e+01 1.968485e+02,2.452938e+01 C1.991111e+02,1.929837e+01 2.013737e+02,1.441523e+01 2.036364e+02,1.069769e+01 C2.058990e+02,6.980141e+00 2.081616e+02,3.988629e+00 2.104242e+02,2.224102e+00 C2.126869e+02,4.595761e-01 2.149495e+02,-2.865987e-01 2.172121e+02,1.105305e-01 C2.194747e+02,5.076597e-01 2.217374e+02,2.095049e+00 2.240000e+02,4.606878e+00 C2.262626e+02,7.118706e+00 2.285253e+02,1.085197e+01 2.307879e+02,1.518150e+01 C2.330505e+02,1.951104e+01 2.353131e+02,2.494876e+01 2.375758e+02,3.058408e+01 C2.398384e+02,3.621940e+01 2.421010e+02,4.271863e+01 2.443636e+02,4.899343e+01 C2.466263e+02,5.526822e+01 2.488889e+02,6.206051e+01 2.511515e+02,6.823286e+01 C2.534141e+02,7.440521e+01 2.556768e+02,8.068743e+01 2.579394e+02,8.602753e+01 C2.602020e+02,9.136762e+01 2.624646e+02,9.639699e+01 2.647273e+02,1.002734e+02 C2.669899e+02,1.041499e+02 2.692525e+02,1.073317e+02 2.715152e+02,1.092861e+02 C2.737778e+02,1.112406e+02 2.760404e+02,1.121987e+02 2.783030e+02,1.120000e+02 C2.805657e+02,1.118013e+02 2.828283e+02,1.104224e+02 2.850909e+02,1.080942e+02 C2.873535e+02,1.057659e+02 2.896162e+02,1.022130e+02 2.918788e+02,9.803041e+01 C2.941414e+02,9.384783e+01 2.964040e+02,8.854103e+01 2.986667e+02,8.299868e+01 C3.009293e+02,7.745633e+01 3.031919e+02,7.102311e+01 3.054545e+02,6.477631e+01 C3.077172e+02,5.852951e+01 3.099798e+02,5.173052e+01 3.122424e+02,4.551788e+01 C3.145051e+02,3.930524e+01 3.167677e+02,3.294437e+01 3.190303e+02,2.750047e+01 C3.212929e+02,2.205656e+01 3.235556e+02,1.688593e+01 3.258182e+02,1.285443e+01 C3.280808e+02,8.822935e+00 3.303434e+02,5.453899e+00 3.326061e+02,3.311494e+00 C3.348687e+02,1.169089e+00 3.371313e+02,4.144833e-15 3.393939e+02,0.000000e+00 C3.416566e+02,-4.144833e-15 3.439192e+02,1.169089e+00 3.461818e+02,3.311494e+00 C3.484444e+02,5.453899e+00 3.507071e+02,8.822935e+00 3.529697e+02,1.285443e+01 C3.552323e+02,1.688593e+01 3.574949e+02,2.205656e+01 3.597576e+02,2.750047e+01 C3.620202e+02,3.294437e+01 3.642828e+02,3.930524e+01 3.665455e+02,4.551788e+01 C3.688081e+02,5.173052e+01 3.710707e+02,5.852951e+01 3.733333e+02,6.477631e+01 C3.755960e+02,7.102311e+01 3.778586e+02,7.745633e+01 3.801212e+02,8.299868e+01 C3.823838e+02,8.854103e+01 3.846465e+02,9.384783e+01 3.869091e+02,9.803041e+01 C3.891717e+02,1.022130e+02 3.914343e+02,1.057659e+02 3.936970e+02,1.080942e+02 C3.959596e+02,1.104224e+02 3.982222e+02,1.118013e+02 4.004848e+02,1.120000e+02 C4.027475e+02,1.121987e+02 4.050101e+02,1.112406e+02 4.072727e+02,1.092861e+02 C4.095354e+02,1.073317e+02 4.117980e+02,1.041499e+02 4.140606e+02,1.002734e+02 C4.163232e+02,9.639699e+01 4.185859e+02,9.136762e+01 4.208485e+02,8.602753e+01 C4.231111e+02,8.068743e+01 4.253737e+02,7.440521e+01 4.276364e+02,6.823286e+01 C4.298990e+02,6.206051e+01 4.321616e+02,5.526822e+01 4.344242e+02,4.899343e+01 C4.366869e+02,4.271863e+01 4.389495e+02,3.621940e+01 4.412121e+02,3.058408e+01 C4.434747e+02,2.494876e+01 4.457374e+02,1.951104e+01 4.480000e+02,1.518150e+01 C4.502626e+02,1.085197e+01 4.525253e+02,7.118706e+00 4.547879e+02,4.606878e+00 C4.570505e+02,2.095049e+00 4.593131e+02,5.076597e-01 4.615758e+02,1.105305e-01 C4.638384e+02,-2.865987e-01 4.661010e+02,4.595761e-01 4.683636e+02,2.224102e+00 C4.706263e+02,3.988629e+00 4.728889e+02,6.980141e+00 4.751515e+02,1.069769e+01 C4.774141e+02,1.441523e+01 4.796768e+02,1.929837e+01 4.819394e+02,2.452938e+01 C4.842020e+02,2.976039e+01 4.864646e+02,3.595778e+01 4.887273e+02,4.208375e+01 C4.909899e+02,4.820972e+01 4.932525e+02,5.498859e+01 4.955152e+02,6.128519e+01 C4.977778e+02,6.758178e+01 5.000404e+02,7.414061e+01 5.023030e+02,7.986334e+01 C5.045657e+02,8.558608e+01 5.068283e+02,9.114936e+01 5.090909e+02,9.562157e+01 C5.113535e+02,1.000938e+02 5.136162e+02,1.040037e+02 5.158788e+02,1.066966e+02 C5.181414e+02,1.093896e+02 5.204040e+02,1.111838e+02 5.226667e+02,1.117790e+02 C5.249293e+02,1.123743e+02 5.271919e+02,1.118407e+02 5.294545e+02,1.102679e+02 C5.317172e+02,1.086950e+02 5.339798e+02,1.058968e+02 5.362424e+02,1.023418e+02 C5.385051e+02,9.878677e+01 5.407677e+02,9.405468e+01 5.430303e+02,8.893792e+01 C5.452929e+02,8.382115e+01 5.475556e+02,7.771472e+01 5.498182e+02,7.164118e+01 C5.520808e+02,6.556764e+01 5.543434e+02,5.880887e+01 5.566061e+02,5.249668e+01 C5.588687e+02,4.618449e+01 5.611313e+02,3.957254e+01 5.633939e+02,3.376805e+01 C5.656566e+02,2.796356e+01 5.679192e+02,2.228021e+01 5.701818e+02,1.766972e+01 C5.724444e+02,1.305924e+01 5.747071e+02,8.976480e+00 5.769697e+02,6.105141e+00 C5.792323e+02,3.233802e+00 5.814949e+02,1.234377e+00 5.837576e+02,4.416857e-01 C5.860202e+02,-3.510054e-01 5.882828e+02,-3.068948e-02 5.905455e+02,1.348994e+00 C5.928081e+02,2.728678e+00 5.950707e+02,5.330861e+00 5.973333e+02,8.719788e+00 C5.995960e+02,1.210871e+01 6.018586e+02,1.668509e+01 6.041212e+02,2.168255e+01 C6.063838e+02,2.668002e+01 6.086465e+02,3.268948e+01 6.109091e+02,3.870460e+01 C6.131717e+02,4.471971e+01 6.154343e+02,5.145171e+01 6.176970e+02,5.777326e+01 C6.199596e+02,6.409480e+01 6.222222e+02,7.075335e+01 6.244848e+02,7.663388e+01 C6.267475e+02,8.251441e+01 6.290101e+02,8.831222e+01 6.312727e+02,9.305642e+01 C6.335354e+02,9.780063e+01 6.357980e+02,1.020522e+02 6.380606e+02,1.050991e+02 C6.403232e+02,1.081460e+02 6.425859e+02,1.103486e+02 6.448485e+02,1.113380e+02 C6.471111e+02,1.123274e+02 6.493737e+02,1.122206e+02 6.516364e+02,1.110355e+02 C6.538990e+02,1.098504e+02 6.561616e+02,1.074468e+02 6.584242e+02,1.042273e+02 C6.606869e+02,1.010078e+02 6.629495e+02,9.659161e+01 6.652121e+02,9.171837e+01 C6.674747e+02,8.684513e+01 6.708687e+02,7.777625e+01 6.720000e+02,7.498782e+01 \" vector-effect=\"non-scaling-stroke\"/></g><g fill=\"none\" stroke=\"black\" stroke-width=\"2px\" stroke-linecap=\"round\" stroke-linejoin=\"round\"><rect x=\"64\" y=\"64\" width=\"672\" height=\"112\" vector-effect=\"non-scaling-stroke\"/><g fill=\"black\" font-family=\"sans-serif\" font-size=\"18px\" font-style=\"normal\" font-weight=\"bold\" dominant-baseline=\"middle\" text-anchor=\"middle\"><text y=\"32\" dominant-baseline=\"middle\" stroke=\"none\" vector-effect=\"non-scaling-stroke\" x=\"400\">Animated Sine</text></g></g></svg>"
      ]
     },
     "metadata": {},
     "output_type": "display_data"
    },
    {
     "data": {
      "text/html": [
       "<p>Done.</p>"
      ]
     },
     "metadata": {},
     "output_type": "display_data"
    }
   ],
   "source": [
    "import (\n",
    "    \"github.com/janpfeifer/gonb/gonbui\"\n",
    "    \"github.com/janpfeifer/gonb/gonbui/dom\"\n",
    "    \"github.com/janpfeifer/gonb/gonbui/widgets\"    \n",
    ")\n",
    "\n",
    "%%\n",
    "freq := 5.5 // From 1.0 to 10.0, controlled by a slider\n",
    "\n",
    "divId := dom.CreateTransientDiv()\n",
    "slider := widgets.Slider(0, 100, 50).AppendTo(divId).Done()\n",
    "freqHtml := fmt.Sprintf(`&nbsp;<span id=\"sin_freq\" style=\"font-family: monospace; font-style: italic; font-size: small; border: 1px solid; border-style: inset; padding-right:5px;\">%6.2f</span>&nbsp;`, freq)\n",
    "dom.Append(divId, freqHtml)\n",
    "button := widgets.Button(\"Ok\").AppendTo(divId).Done()\n",
    "\n",
    "// Initial plot.\n",
    "htmlCellId := \"sin_plot\"+gonbui.UniqueId()\n",
    "plotSvg := mgSinPlot(800, 240, freq)  // Defined in the cell above.\n",
    "gonbui.UpdateHtml(htmlCellId, plotSvg)\n",
    "\n",
    "// Listen to slider, button and a timeout timer.\n",
    "sliderChan := slider.Listen().LatestOnly()\n",
    "buttonChan := button.Listen()\n",
    "loop:\n",
    "for {\n",
    "    select {\n",
    "    case <- buttonChan.C:\n",
    "        break loop\n",
    "    case value := <-sliderChan.C:\n",
    "        freq := 1.0 + 9.0 * float64(value) / 100.0\n",
    "        dom.SetInnerText(\"sin_freq\", fmt.Sprintf(\"%6.2f\", freq))\n",
    "        plotSvg = mgSinPlot(800, 240, freq)  // Defined in the cell above.\n",
    "        gonbui.UpdateHtml(htmlCellId, plotSvg)\n",
    "    case <- time.After(1000 * time.Millisecond):\n",
    "        break loop\n",
    "    }\n",
    "}\n",
    "\n",
    "// Erase transient UI and image and re-display it so it can be persisted.\n",
    "gonbui.UpdateHtml(htmlCellId, \"\")\n",
    "dom.Persist(divId)\n",
    "gonbui.DisplayHtml(plotSvg)\n",
    "gonbui.DisplayHtml(\"<p>Done.</p>\")"
   ]
  },
  {
   "cell_type": "markdown",
   "id": "626a3bd7-35c8-424d-af44-005940178224",
   "metadata": {},
   "source": [
    "### User Input\n",
    "\n",
    "There are different ways to provide input to a program in GoNB. We list them below and introduce a new one:\n",
    "\n",
    "1. Simply define constants or variables in the cell and use them. The cell itself is a good way to enter input.\n",
    "2. Add flags, and pass the values of flags after the `%%` command. For instance `%% --x=10` will run your cell with the flag `x` set to 10. This is handy for instance to test a function with different values, each one in a different cell.\n",
    "3. Read the input from an external file. One can edit the file in Jupyter or another text editor. It's easy to set `os.Stdin` to the desired file.\n",
    "4. Use HTML widgets (see `gonbui/widgets` package, described above).\n",
    "5. Jupyter Notebooks also provides a form of input request, where it displays an in-place text box. The `gonbui` package has a function to do that, the results of which can be read in from the `stdin` afterwards. See the following example:\n",
    "\n",
    "```go\n",
    "import (\n",
    "    \"fmt\"\n",
    "    \"github.com/janpfeifer/gonb/gonbui\"\n",
    ")\n",
    "\n",
    "%%\n",
    "gonbui.RequestInput(\"Tell me a number: \", false)\n",
    "var x int\n",
    "_, err := fmt.Scan(&x)\n",
    "if err != nil { panic(err) }\n",
    "fmt.Printf(\"The number you typed was %d\\n\", x)\n",
    "\n",
    "gonbui.RequestInput(\"Tell me a secret: \", true)\n",
    "var secret string\n",
    "_, err = fmt.Scan(&secret)\n",
    "if err != nil { panic(err) }\n",
    "fmt.Printf(\"Shh! Your secret was %q\\n\", secret)\n",
    "```\n",
    "\n",
    "The output would be something like:\n",
    "\n",
    "```\n",
    "Tell me a number:  42\n",
    "The number you typed was 42\n",
    "Tell me a secret:  ······\n",
    "Shh! Your secret was \"I🧡GoNB!\"\n",
    "```\n",
    "\n",
    "> **Note**: Not executed by default because it breaks the automatic tests, but try it out on a new cell!"
   ]
  },
  {
   "cell_type": "markdown",
   "id": "b2e0a724-0594-4462-88a4-6856a0dc2cb4",
   "metadata": {},
   "source": [
    "## Executing Shell Commands\n",
    "\n",
    "There are two variations to execute shell commands. They differ only on the directory\n",
    "from where they are executed.\n",
    "\n",
    "* `!` prefix executes what comes next should be executed as a shell command, on the same directory\n",
    "  where the kernel is executed -- typically the same directory where the notebook files is saved.\n"
   ]
  },
  {
   "cell_type": "code",
   "execution_count": 26,
   "id": "724e33f4-c5fa-4fbe-9d90-e411369a74f3",
   "metadata": {},
   "outputs": [
    {
     "name": "stdout",
     "output_type": "stream",
     "text": [
      "go version go1.24.2 linux/amd64\n",
      "/home/janpf/Projects/gonb/examples\n",
      "total 352\n",
      "-rw-rw-r-- 1 janpf janpf 108240 Sep 23  2024 google_colab_demo.ipynb\n",
      "drwxr-xr-x 3 janpf janpf   4096 Jun  1 11:41 tests\n",
      "-rw-r--r-- 1 janpf janpf 232436 Jun  1 12:00 tutorial.ipynb\n",
      "-rw-r--r-- 1 janpf janpf  10090 Dec 15  2023 wasm_demo.ipynb\n"
     ]
    }
   ],
   "source": [
    "!go version\n",
    "!pwd ; ls -l"
   ]
  },
  {
   "cell_type": "markdown",
   "id": "58a9dd1a-c30a-4d89-aada-efb91a989f20",
   "metadata": {},
   "source": [
    "* `!*` prefix executes what comes next as a shell command, on the temporary directory used \n",
    "  to compile the *Go* program when executing the cells. This includes the `go.mod` file, that\n",
    "  can be manipulated for special use cases, like importing a specific version of a module, \n",
    "  or to `redirect` a module to a local directory for development (see `Replace` section below)\n",
    "  \n",
    "Example:"
   ]
  },
  {
   "cell_type": "code",
   "execution_count": 27,
   "id": "be207993-219d-4a7f-a130-5111971fb867",
   "metadata": {},
   "outputs": [
    {
     "name": "stdout",
     "output_type": "stream",
     "text": [
      "/tmp/gonb_f2fb06a5\n",
      "total 14736\n",
      "-rw-r--r-- 1 janpf janpf     1358 Jun  1 12:00 go.mod\n",
      "-rwxr-xr-x 1 janpf janpf 15068580 Jun  1 12:01 gonb_f2fb06a5\n",
      "srwxr-xr-x 1 janpf janpf        0 Jun  1 12:00 gopls_socket\n",
      "-rw-r--r-- 1 janpf janpf     7809 Jun  1 12:00 go.sum\n",
      "-rw-r--r-- 1 janpf janpf     6177 Jun  1 12:01 main.go\n"
     ]
    }
   ],
   "source": [
    "!*pwd ; ls -l"
   ]
  },
  {
   "cell_type": "markdown",
   "id": "c7155d4a-1076-4b63-bee5-bf0ae2baaeec",
   "metadata": {},
   "source": [
    "You can also use a `\\` at the end of the line to extend the shell command to multiple lines.\n",
    "\n",
    "Example:"
   ]
  },
  {
   "cell_type": "code",
   "execution_count": 28,
   "id": "8688859a-ec3b-4e54-99b4-abbd8542091d",
   "metadata": {},
   "outputs": [
    {
     "name": "stdout",
     "output_type": "stream",
     "text": [
      "Counting: 4 ...\n"
     ]
    }
   ],
   "source": [
    "!((ii=0)) ;\\\n",
    "while ((ii < 5)) ; do \\\n",
    "  printf \"\\rCounting: ${ii} ...\" ;\\\n",
    "  sleep 1;\\\n",
    "  ((ii+=1));\\\n",
    "done;\\\n",
    "echo"
   ]
  },
  {
   "cell_type": "markdown",
   "id": "81f89ec8-242c-4acf-9ece-af896fb1ad5f",
   "metadata": {},
   "source": [
    "If some shell program requires some input from the user, you can precede it with a `%with_inputs` or `%with_password` (for hidden input) and it will open a text field for typing some arbitrary text input. Example:\n",
    "\n",
    "```shell\n",
    "%with_password\n",
    "!sudo -S apt update\n",
    "```"
   ]
  },
  {
   "cell_type": "markdown",
   "id": "e4b125e1-f0e2-4180-8029-644208c59270",
   "metadata": {},
   "source": [
    "## Debugging A Cell\n",
    "\n",
    "While **GoNB** doesn't (yet) talk the debug protocol with JupyterLab, it's easy to start a GUI debugger\n",
    "from a cell, if being executed on the same machine as the browser.\n",
    "\n",
    "The common Go debugger recommendation is [delve](https://github.com/go-delve/delve), and in particular its front-end\n",
    "[gdlv](https://github.com/aarzilli/gdlv). And to make it simpler **GoNB** includes a small wrapper script \n",
    "[`ndlv`](https://github.com/janpfeifer/gonb/blob/main/cmd/ndlv/ndlv) to\n",
    "set the directory and program name to the last cell executed. Copy or link that script somewhere in your `PATH`\n",
    "(maybe `${HOME}/bin` if you have such directory set up).\n",
    "\n",
    "To open the debugger, after executing a cell you want to debug, you create and execute a new cell with this single shell command:\n",
    "\n",
    "```\n",
    "!ndlv\n",
    "```\n"
   ]
  },
  {
   "cell_type": "markdown",
   "id": "514b3ca4-3a1e-4b14-964b-ed8efa4f1d3e",
   "metadata": {},
   "source": [
    "## Environment Variables\n",
    "\n",
    "For convenience, **GoNB** defines the following environment variables -- available for the shell scripts (`!` and `!*`) and for the _Go_ cells:\n",
    "\n",
    "* `GONB_DIR`: the directory where commands are executed from. This can be changed with `%cd`.\n",
    "* `GONB_TMP_DIR`: the directory where the temporary Go code, with the cell code, is stored and compiled. This is the directory where `!*` scripts are executed. It only changes when a kernel is restarted, and a new temporary directory is created.\n",
    "* `GONB_PIPE`: is the _named pipe_ directory used to communicate rich content (HTML, images) to the kernel. Only available for _Go_ cells, and a new one is created at every execution. This is used by the `gonbui` functions described above, and doesn't need to be accessed directly."
   ]
  },
  {
   "cell_type": "markdown",
   "id": "b49634dd-4703-4a3f-88c7-a8687ee35369",
   "metadata": {},
   "source": [
    "## Tests and Benchmarks\n",
    "\n",
    "**GoNB** allows also executing the cell with `go test`, to demo or debug tests and benchmarks. For that just mark the cell with `%test` and if no other parameters are given, it will run the tests and benchmarks defined in the current cell.\n",
    "\n",
    "If it is the only command in the cell, it will run all tests defined so far. "
   ]
  },
  {
   "cell_type": "code",
   "execution_count": 29,
   "id": "02dbf874-ab19-4fb8-8d91-901dadac808c",
   "metadata": {},
   "outputs": [
    {
     "name": "stdout",
     "output_type": "stream",
     "text": [
      "=== RUN   TestIncr\n",
      "--- PASS: TestIncr (0.00s)\n",
      "goos: linux\n",
      "goarch: amd64\n",
      "pkg: gonb_f2fb06a5\n",
      "cpu: AMD Ryzen 9 9950X3D 16-Core Processor          \n",
      "BenchmarkIncr\n",
      "BenchmarkIncr-32    \t1000000000\t         0.1787 ns/op\n",
      "PASS\n"
     ]
    }
   ],
   "source": [
    "import \"github.com/stretchr/testify/require\"\n",
    "\n",
    "func TestIncr(t *testing.T) {\n",
    "    require.Equal(t, 2, incr(1))    \n",
    "}\n",
    "\n",
    "func BenchmarkIncr(b *testing.B) {\n",
    "    for i := 0; i < b.N; i++ {\n",
    "        _ = incr(i)\n",
    "    }\n",
    "}\n",
    "\n",
    "%test"
   ]
  },
  {
   "cell_type": "markdown",
   "id": "25230a6f-9412-4cde-8759-b6058d10e012",
   "metadata": {},
   "source": [
    "Alternatively, you can provide extra flags that are passed to the test binary. For instance, to execute all benchmarks defined so far, use:\n",
    "\n",
    "```\n",
    "%test -test.bench=. -test.run=Bechmark\n",
    "```"
   ]
  },
  {
   "cell_type": "markdown",
   "id": "fc3e1354-7a50-4db9-a82b-ad42d6e9c102",
   "metadata": {},
   "source": [
    "## Developing Go libraries with a notebook: `go.mod` and `go.work`\n",
    "\n",
    "*GoNB* uses `go.mod` and understands `go.work` -- but won't create it by default.\n",
    "\n",
    "### \"Replace\" modules in `go.mod`\n",
    "\n",
    "Using the `!*` command above we can easily \"replace\" a module to a local directory. This can be very handy\n",
    "for developing a library in a powerful IDE on the side, and using the *GoNB* notebook to execute tests\n",
    "and experiments. Changes in the library (in the IDE) when saved immediate take effect on the next cell execution.\n",
    "\n",
    "\n",
    "The accompaining library *gonbui* was implemented mostly in this fashion using a notebook, that started with:\n",
    "\n",
    "```\n",
    "!*go mod edit -replace github.com/janpfeifer/gonb=/home/janpf/Projects/gonb\n",
    "```\n",
    "\n",
    "Check out the results with:\n",
    "\n",
    "```\n",
    "!*cat go.mod\n",
    "```"
   ]
  },
  {
   "cell_type": "code",
   "execution_count": 30,
   "id": "3391f12e-131b-45b8-b270-6ba06abaac8c",
   "metadata": {
    "tags": []
   },
   "outputs": [
    {
     "name": "stdout",
     "output_type": "stream",
     "text": [
      "module gonb_f2fb06a5\n",
      "\n",
      "go 1.24.2\n",
      "\n",
      "require (\n",
      "\tgithub.com/MetalBlueberry/go-plotly v0.7.0\n",
      "\tgithub.com/ajstarks/svgo v0.0.0-20211024235047-1546f124cd8b\n",
      "\tgithub.com/benc-uk/gofract v0.0.0-20230120162050-a6f644f92fd6\n",
      "\tgithub.com/erkkah/margaid v0.1.1-0.20230128143048-d60b2efd2f5a\n",
      "\tgithub.com/janpfeifer/gonb v0.11.0\n",
      "\tgithub.com/schollz/progressbar/v3 v3.18.0\n",
      "\tgithub.com/stretchr/testify v1.9.0\n",
      "\tgolang.org/x/exp v0.0.0-20250531010427-b6e5de432a8b\n",
      "\tgonum.org/v1/plot v0.16.0\n",
      ")\n",
      "\n",
      "require (\n",
      "\tcodeberg.org/go-fonts/liberation v0.5.0 // indirect\n",
      "\tcodeberg.org/go-latex/latex v0.1.0 // indirect\n",
      "\tcodeberg.org/go-pdf/fpdf v0.10.0 // indirect\n",
      "\tgit.sr.ht/~sbinet/gg v0.6.0 // indirect\n",
      "\tgithub.com/campoy/embedmd v1.0.0 // indirect\n",
      "\tgithub.com/davecgh/go-spew v1.1.1 // indirect\n",
      "\tgithub.com/go-logr/logr v1.4.2 // indirect\n",
      "\tgithub.com/gofrs/uuid v4.4.0+incompatible // indirect\n",
      "\tgithub.com/golang/freetype v0.0.0-20170609003504-e2365dfdc4a0 // indirect\n",
      "\tgithub.com/lucasb-eyer/go-colorful v1.0.3 // indirect\n",
      "\tgithub.com/mitchellh/colorstring v0.0.0-20190213212951-d06e56a500db // indirect\n",
      "\tgithub.com/pkg/errors v0.9.1 // indirect\n",
      "\tgithub.com/pmezard/go-difflib v1.0.0 // indirect\n",
      "\tgithub.com/rivo/uniseg v0.4.7 // indirect\n",
      "\tgolang.org/x/image v0.25.0 // indirect\n",
      "\tgolang.org/x/sys v0.30.0 // indirect\n",
      "\tgolang.org/x/term v0.28.0 // indirect\n",
      "\tgolang.org/x/text v0.23.0 // indirect\n",
      "\tgopkg.in/yaml.v2 v2.3.0 // indirect\n",
      "\tgopkg.in/yaml.v3 v3.0.1 // indirect\n",
      "\tk8s.io/klog/v2 v2.130.1 // indirect\n",
      ")\n",
      "\n",
      "replace github.com/janpfeifer/gonb => /home/janpf/Projects/gonb\n"
     ]
    }
   ],
   "source": [
    "!*go mod edit -replace \"github.com/janpfeifer/gonb=${HOME}/Projects/gonb\"\n",
    "!*cat go.mod"
   ]
  },
  {
   "cell_type": "markdown",
   "id": "1e46fc85-fb7a-43dd-9434-43d2d5faded8",
   "metadata": {},
   "source": [
    "### \"Use\" modules in `go.work`\n",
    "\n",
    "Another way to refer to modules that are being co-developed in local file is using [Go workspaces](https://go.dev/doc/tutorial/workspaces).\n",
    "                                                                                                   \n",
    "In **GoNB**, a convenient way to achive this is by first creating a `go.work` and then selecting the modules to be use from the local disk. Example:                                                                                           "
   ]
  },
  {
   "cell_type": "code",
   "execution_count": 31,
   "id": "45cf4a12-4b93-480f-bd83-2d375e7a475d",
   "metadata": {
    "tags": []
   },
   "outputs": [
    {
     "name": "stdout",
     "output_type": "stream",
     "text": [
      "\t- Replace rule for module \"github.com/janpfeifer/gonb\" to local directory \"/home/janpf/Projects/gonb\" already exists.\n"
     ]
    }
   ],
   "source": [
    "!*rm -f go.work && go work init && go work use . \"${HOME}/Projects/gonb\"\n",
    "%goworkfix"
   ]
  },
  {
   "cell_type": "markdown",
   "id": "29f2828e-a7e7-4264-aca8-c47ed4377c17",
   "metadata": {},
   "source": [
    "> **Note**:\n",
    "> - **GoNB** uses `go get` to automatically fetch missing imports.\n",
    ">   Unfortunately `go get` doesn't handle `go.work` `use` definitions.\n",
    ">   The special command `%goworkfix` handles that by adding a `replace` entry in `go.mod` for\n",
    ">   all modules pointed to by `go.work`.\n",
    "> - One can use the env variable `GONB_DIR` to refer to the current kernel directory (changed with `%cd`)."
   ]
  },
  {
   "cell_type": "markdown",
   "id": "6594c119-e2e9-4d93-a4bd-506b4ab190fc",
   "metadata": {},
   "source": [
    "### Tracked directories\n",
    "\n",
    "**GoNB** tracks for changes in local files in target directories of `replace` rules in `go.mod` or `use` rules in `go.work`. This way auto-complete and contextual help stay up-to-date with changes on local files you may be editing on a separate editor.\n",
    "\n",
    "See `%track` and `%untrack` to list and control tracking. For instance, in our tutorial, this is what **GoNB** is tracking:"
   ]
  },
  {
   "cell_type": "code",
   "execution_count": 32,
   "id": "f6d836c1-3dfd-41a0-b097-b157f33289a8",
   "metadata": {
    "tags": []
   },
   "outputs": [
    {
     "data": {
      "text/html": [
       "<b>List of files/directories being tracked:</b>\n",
       "<ul>\n",
       "<li>/home/janpf/Projects/gonb</li>\n",
       "<li>/home/janpf/Projects/gonb/cache</li>\n",
       "<li>/home/janpf/Projects/gonb/cmd/nbexec</li>\n",
       "<li>/home/janpf/Projects/gonb/common</li>\n",
       "<li>/home/janpf/Projects/gonb/gonbui</li>\n",
       "<li>/home/janpf/Projects/gonb/gonbui/comms</li>\n",
       "<li>/home/janpf/Projects/gonb/gonbui/dom</li>\n",
       "<li>/home/janpf/Projects/gonb/gonbui/plotly</li>\n",
       "<li>/home/janpf/Projects/gonb/gonbui/protocol</li>\n",
       "<li>/home/janpf/Projects/gonb/gonbui/wasm</li>\n",
       "<li>/home/janpf/Projects/gonb/gonbui/widgets</li>\n",
       "<li>/home/janpf/Projects/gonb/internal/comms</li>\n",
       "<li>/home/janpf/Projects/gonb/internal/dispatcher</li>\n",
       "<li>/home/janpf/Projects/gonb/internal/goexec</li>\n",
       "<li>/home/janpf/Projects/gonb/internal/goexec/goplsclient</li>\n",
       "<li>/home/janpf/Projects/gonb/internal/jpyexec</li>\n",
       "<li>/home/janpf/Projects/gonb/internal/kernel</li>\n",
       "<li>/home/janpf/Projects/gonb/internal/nbtests</li>\n",
       "<li>/home/janpf/Projects/gonb/internal/specialcmd</li>\n",
       "<li>/home/janpf/Projects/gonb/internal/version</li>\n",
       "<li>/home/janpf/Projects/gonb/internal/websocket</li>\n",
       "<li>/home/janpf/Projects/gonb/version</li>\n",
       "</ul>\n"
      ]
     },
     "metadata": {},
     "output_type": "display_data"
    }
   ],
   "source": [
    "%track"
   ]
  },
  {
   "cell_type": "markdown",
   "id": "557c7d2e-4726-453c-9471-2f340d06a1e6",
   "metadata": {},
   "source": [
    "### Custom `go build` flags\n",
    "\n",
    "Sometimes it can be desirable to change the Go flags used to build the cells being executed.\n",
    "For instance to check for coverage, or enable race condition detection, etc.\n",
    "\n",
    "**GoNB** supports this in two ways:\n",
    "\n",
    "1. You can tell **GoNB** to use arbitrary `go build` flags with `%goflags <values ...>`. `%goflags` without any values displays current settings, and `%goflags \"\"` will reset to the default (no extra flags).\n",
    "2. In some cases it's not that one wants **GoNB** to build the binary with the flags, but simply run `go build ...` to see the results. This is supported by simply running `!*go build ...`, which is conveniently executed (the `!*` prefix) in the temporary directory where the cells code maintained by **GoNB** is located (in a `main.go`). E.g.: To look at optimization decisions, use `!*go build -gcflags=-m`.\n",
    "\n",
    "See an example in the `examples/tests/gcflags.ipynb` file, which is used as an integration test."
   ]
  },
  {
   "cell_type": "markdown",
   "id": "1c54e53a-037c-451e-9fd4-116d27c58296",
   "metadata": {},
   "source": [
    "## More ... and Help\n",
    "\n",
    "Some other features:\n",
    "\n",
    "* **Errors reported** by the Go compiler are parsed and a **_mouse-over_ context is displayed**. This facilitates understanding the error, since the line numbers reported by Go are not the same as in the cell being executed.\n",
    "* **Contextual Help**: can be activated with **\"Shift+Tab\"\"** (floating note) or **\"Control+I\"** (for a separate sub-window). Notice it may be slow if some new import needs to be fetched -- consider executing once some code with the imports before using the contextual help.\n",
    "\n",
    "The library is new, and there is still development going on, with still some features in the pipeline (more on the displaying side, auto-complete). For those\n",
    "who enjoy coding, help in improving *GoNB* is very welcome!\n",
    "\n",
    "Finally, there is also the `%help` command, which lists all the currently supported features:"
   ]
  },
  {
   "cell_type": "code",
   "execution_count": 33,
   "id": "ba9172b8-ede5-44cd-baa1-a58a1d668a98",
   "metadata": {
    "tags": []
   },
   "outputs": [
    {
     "data": {
      "text/markdown": [
       "## GoNB Help Page\n",
       "\n",
       "**GoNB** is a Go kernel that compiles and executes on-the-fly Go code.\n",
       "\n",
       "When executing a cell, **GoNB** will save the cell contents (except non-Go commands see\n",
       "below) into a `main.go` file, compile and execute it.\n",
       "\n",
       "It also saves any global declarations (imports, functions, types, variables, constants)\n",
       "and reuse them at the next cell execution -- so you can define a function in one\n",
       "cell, and reuse in the next one. Just the `func main()` is not reused.\n",
       "\n",
       "A `hello world` example would look like:\n",
       "\n",
       "```go\n",
       "func main() {\n",
       "    fmt.Printf(`Hello world!\\n`);\n",
       "}\n",
       "\n",
       "```\n",
       "\n",
       "But to avoid having to type `func main()` all the time, you can use `%%` and everything\n",
       "after is wrapped inside a `func main() { ... }`. \n",
       "So our revised `hello world` looks like:\n",
       "\n",
       "```go\n",
       "%%\n",
       "fmt.Printf(`Hello world!\\n`)\n",
       "\n",
       "```\n",
       "\n",
       "\n",
       "### Init Functions -- `func init()`\n",
       "\n",
       "Since there is always only one definition per function name, it's not possible for\n",
       "each cell to have its own init() function. \n",
       "Instead, **GoNB** converts any function named `init_something()` to `init()` before \n",
       "compiling and executing. \n",
       "This way each cell can create its own `init_...()` and have it called at every cell execution.\n",
       "\n",
       "\n",
       "### Special non-Go Commands\n",
       "\n",
       "- `%% [<args...>]` or `%main [<args...>]`: Marks the lines as follows to be wrapped in a `func main() {...}` during\n",
       "  execution. A shortcut to quickly execute code. It also automatically includes `flag.Parse()`\n",
       "  as the very first statement. Anything after`%%` or `%main` are taken as arguments\n",
       "  to be passed to the program -- it resets previous values given by `%args`.\n",
       "- `%args <args...>`: Sets arguments to be passed when executing the Go code. This allows one to\n",
       "  use flags as a normal program. Notice that if a value after `%%` or `%main` is given, it will\n",
       "  overwrite the values here.\n",
       "- `%exec <my_func> [<args...>]`: this will call the function `my_func()`, and optionally set the program arguments.\n",
       "  Behind the scenes it creates a trivial `func main()` that parses the flags and calls `my_func()` (without any\n",
       "  parameters or return values).\n",
       "- `%autoget` and `%noautoget`: Default is `%autoget`, which automatically does `go get` for\n",
       "  packages not yet available.\n",
       "- `%cd [<directory>]`: Change current directory of the Go kernel, and the directory from where\n",
       "  the cells are executed. If no directory is given it reports the current directory.\n",
       "- `%env VAR value`: Sets the environment variable VAR to the given value. These variables\n",
       "  will be available both for Go code and for shell scripts.\n",
       "- `%goflags <values...>`: Configures list of extra arguments to pass to `go build` when compiling the\n",
       "  code for execution of a cell.\n",
       "  If no values are given, it simply shows the current setting.\n",
       "  To reset its value, use `%goflags \"\"\"`.\n",
       "  See example on how to use this in the [tutorial](https://github.com/janpfeifer/gonb/blob/main/examples/tutorial.ipynb). \n",
       "- `%with_inputs`: will prompt for inputs for the next shell command. Use this if\n",
       "  the next shell command (`!`) you execute reads the stdin. Jupyter will require\n",
       "  you to enter one last value after the shell script executes.\n",
       "- `%with_password`: will prompt for a password passed to the next shell command.\n",
       "  Do this is if your next shell command requires a password.\n",
       "- `%capture [-a] <file_path>` will make a copy of all **cell execution output** to the given file. By default\n",
       "  it overwrites the file contents each time the cell is executed. Use `-a` instead to append to the file.\n",
       "  It works only for the current cell. See also `%%writefile` to write files with a specific content.\n",
       "  It doesn't work with `%wasm` cells.\n",
       "- `%version` prints out **GoNB**'s version.\n",
       "\n",
       "**Notes**: \n",
       "\n",
       "1. The special commands below can be used in the start of the line as is, or prefixed by a `//gonb:`, which may be easier\n",
       "on some IDEs if editing the code externally (since these special commands are not proper Go). \n",
       "So `//gonb:%%` is the same as `%%` \n",
       "2. All these commands are executed **before** any Go code in the same cell.\n",
       "\n",
       "\n",
       "### Managing Memorized Definitions\n",
       "\n",
       "- `%list` (or `%ls`): Lists all memorized definitions (imports, constants, types, variables and\n",
       "  functions) that are carried from one cell to another.\n",
       "- `%remove <definitions>` (or `%rm <definitions>`): Removes (forgets) given definition(s). Use as key the\n",
       "  value(s) listed with `%ls`.\n",
       "- `%reset [go.mod]` clears all memorized definitions (imports, constants, types, functions, etc.)\n",
       "  as well as re-initializes the `go.mod` file. \n",
       "  If the optional `go.mod` parameter is given, it will re-initialize only the `go.mod` file -- \n",
       "  useful when testing different set up of versions of libraries.\n",
       "\n",
       "\n",
       "### Executing Shell Commands\n",
       "\n",
       "- `!<shell_cmd>`: executes the given command on a new shell. It makes it easy to run\n",
       "  commands on the kernels box, for instance to install requirements, or quickly\n",
       "  check contents of directories or files. Lines ending in `\\` are continued on\n",
       "  the next line -- so multi-line commands can be entered. But each command is\n",
       "  executed in its own shell, that is, variables and state is not carried over.\n",
       "- `!*<shell_cmd>`: same as `!<shell_cmd>` except it first changes directory to\n",
       "  the temporary directory used to compile the go code -- the latest execution\n",
       "  is always saved in the file `main.go`. It's also where the `go.mod` file for\n",
       "  the notebook is created and maintained. Useful for manipulating `go.mod`,\n",
       "  for instance to get a package from some specific version, something\n",
       "  like `!*go get github.com/my/package@v3`.\n",
       "\n",
       "Notice that when the cell is executed, first all shell commands are executed, and only after that, if there is\n",
       "any Go code in the cell, it is executed.\n",
       "\n",
       "### Running a Debugger\n",
       "\n",
       "While **GoNB** doesn't (yet) talk the debug protocol with JupyterLab, it's easy to start a GUI debugger\n",
       "from a cell, if being executed on the same machine as the browser.\n",
       "\n",
       "The common Go debugger recommendation is [delve](https://github.com/go-delve/delve), and in particular its front-end\n",
       "[gdlv](https://github.com/aarzilli/gdlv). And to make it simpler **GoNB** includes a small wrapper script \n",
       "[`ndlv`](https://github.com/janpfeifer/gonb/blob/main/cmd/ndlv/ndlv) to\n",
       "set the directory and program name to the last cell executed. Copy or link that script somewhere in your `PATH`\n",
       "(maybe `${HOME}/bin` if you have such directory set up).\n",
       "\n",
       "To open the debugger, after executing a cell you want to debug, you create and execute a new cell with this single shell command:\n",
       "\n",
       "```\n",
       "!ndlv\n",
       "```\n",
       "\n",
       "### Tracking of Go Files In Development:\n",
       "\n",
       "A convenient way to develop programs or libraries in **GoNB** is to use replace\n",
       "rules in **GoNB**'s `go.mod` to your program or library being developed and test\n",
       "your program from **GoNB** -- see the \n",
       "[Tutorial]((https://github.com/janpfeifer/gonb/blob/main/examples/tutorial.ipynb))'s\n",
       "section \"Developing Go libraries with a notebook\" for different ways of achieving this.\n",
       "\n",
       "To manipulate the list of files tracked for changes:\n",
       "\n",
       "- `%track [file_or_directory]`: add file or directory to list of tracked files,\n",
       "  which are monitored by **GoNB** (and 'gopls') for auto-complete or contextual help.\n",
       "  If no file is given, it lists the currently tracked files.\n",
       "- `%untrack [file_or_directory][...]`: remove file or directory from list of tracked files.\n",
       "  If suffixed with `...` it will remove all files prefixed with the string given (without the\n",
       "  `...`). If no file is given, it lists the currently tracked files.\n",
       "\n",
       "\n",
       "### Environment Variables\n",
       "\n",
       "For convenience, **GoNB** defines the following environment variables -- available for the shell\n",
       "scripts (`!` and `!*`) and for the Go cells:\n",
       "\n",
       "- `GONB_DIR`: the directory where commands are executed from. This can be changed with `%cd`.\n",
       "- `GONB_TMP_DIR`: the directory where the temporary Go code, with the cell code, is stored\n",
       "  and compiled. This is the directory where `!*` scripts are executed. It only changes when a kernel\n",
       "  is restarted, and a new temporary directory is created.\n",
       "- `GONB_PIPE`: is the _named pipe_ directory used to communicate rich content (HTML, images)\n",
       "  to the kernel. Only available for _Go_ cells, and a new one is created at every execution.\n",
       "  This is used by the `**GoNB**ui`` functions described above, and doesn't need to be accessed directly.\n",
       "- `GONB_VERSION`: Version of this *GoNB* build.\n",
       "- `GONB_GIT_COMMIT`: Git commit hash for this *GoNB* build -- notice it doesn't account for any modifications that\n",
       "  may have been made and not committed.\n",
       "- `GONB_JUPYTER_KERNEL_ID`: the unique id assigned by Jupyter to this kernel.\n",
       "  It's used to build some of the API paths to the JupyterServer.\n",
       "  If it's not set, GoNB was not able to parse it from the kernel file path.\n",
       "- `GONB_JUPYTER_ROOT`: the path to the Jupyter root directory, if GONB managed to read it (depends on the architecture).\n",
       "  This can be used to construct URLs to static file contents (images, javascript, etc.) served by Jupyter: \n",
       "  one can use `src=\"/file/...<path under GONB_JUPYTER_ROOT>...\"`.\n",
       "\n",
       "### Widgets\n",
       "\n",
       "The package `gonbui/widgets` offers widgets that can be used to interact in a more\n",
       "dynamic way, using the HTML element in the browser. E.g.: buttons, sliders.\n",
       "\n",
       "It's not necessary to do anything, but, to help debug the communication system\n",
       "with the front-end, **GoNB** offers a couple of special commands:\n",
       "\n",
       "- `%widgets` - install the javascript needed to communicate with the frontend.\n",
       "  This is usually not needed, since it happens automatically when using Widgets.\n",
       "- `%widgets_hb` - send a _heartbeat_ signal to the front-end and wait for the\n",
       "  reply.\n",
       "  Used for debugging only.\n",
       "\n",
       "### Writing for WASM (WebAssembly) (Experimental)\n",
       "\n",
       "**GoNB** can also compile to WASM and run in the notebook. This is experimental, and likely to change\n",
       "(feedback is very welcome), and can be used to write interactive widgets in Go, in the notebook.\n",
       "\n",
       "When a cell with `%wasm` is executed, a temporary directory is created under the Jupyter root directory\n",
       "called `jupyter_files/<kernel unique id>/` and the cell is compiled to a wasm file and put in that \n",
       "directory.\n",
       "\n",
       "Then **GONB** outputs the javascript needed to run the compiled wam.\n",
       "\n",
       "In the Go code, the following extra constants/variables are created in the global namespace, and can be used\n",
       "in your Go code:\n",
       "\n",
       "- `GonbWasmDir`, `GonbWasmUrl`: the directory and url (served by Jupyter) where the generated `.wasm` files are read.\n",
       "  Potentially, the user can use it to serve other files.\n",
       "  These are unique for the kernel, but shared among cells.\n",
       "- `GonbWasmDivId`: When a `%wasm` cell is executed, an empty `<div id=\"<unique_id>\"></div>`\n",
       "  is created with a unique id -- every cell will have a different one.\n",
       "  This is where the Wasm code can dynamically create content.\n",
       "\n",
       "The following environment variables are set when `%wasm` is created:\n",
       "\n",
       "- `GONB_WASM_SUBDIR`, `GONB_WASM_URL`: the directory and url (served by Jupyter) where the generated `.wasm` files are read.\n",
       "  Potentially, the user can use it to serve other files.\n",
       "  These environment variables are available for shell scripts (`!...` and `!*...` special commands) and non-wasm \n",
       "  programs if they want to serve different files from there.\n",
       "\n",
       "\n",
       "### Writing Tests and Benchmarks\n",
       "\n",
       "If a cell includes the `%test` command (anywhere in cell), it is compiled with `go test`\n",
       "(as opposed to `go build`).\n",
       "This can be very useful both to demonstrate tests, or simply help develop/debug them in a notebook.\n",
       "\n",
       "If `%test` is given without any flags, it uses by default the flags `-test.v` (verbose) and `-test.run` defined\n",
       "with the list of the tests defined in the current cell. \n",
       "That is, it will run only the tests in the current cell. \n",
       "Also, if there are any benchmarks in the current cell, it appends the flag `-test.bench=.` and runs the benchmarks\n",
       "defined in the current cell.\n",
       "\n",
       "Alternatively one can use `%test <flags>`, and the `flags` are passed to the binary compiled with `go test`. \n",
       "Remember that test flags require to be prefixed with `test.`. \n",
       "So for a verbose output, use `%test -test.v`. \n",
       "For benchmarks, run `%test -test.bench=. -test.run=Benchmark`. \n",
       "\n",
       "See examples in the [`gotest.ipynb` notebook here](https://github.com/janpfeifer/gonb/blob/main/examples/tests/gotest.ipynb).\n",
       "\n",
       "\n",
       "### Cell Magic\n",
       "\n",
       "The following are special commands that change how the cell is interpreted, so they are prefixed with `%%` (two '%'\n",
       "symbols). They try to follow [IPython's Cell Magic](https://ipython.readthedocs.io/en/stable/interactive/magics.html#cell-magics).\n",
       "\n",
       "They must always appear as the first line of the cell.\n",
       "\n",
       "The contents in the cells are not assumed to be Go, so auto-complete and contextual help are disabled in those cells.\n",
       "\n",
       "#### `%%writefile`\n",
       "\n",
       "```\n",
       "%%writefile [-a] <filePath>\n",
       "```\n",
       "\n",
       "Write contents of the cell (except the first line with the '%%writefile') to the given `<filePath>`. If `-a` is given\n",
       "it will append the cell contents to the file.\n",
       "\n",
       "This can be handy if for instance the notebook needs to write a configuration file, or simply to dump the code inside\n",
       "the cell into some file.\n",
       "\n",
       "File path passes through a tilde (`~`) expansion to the user's home directory, as well as environment variable substitution (e.g.: `${HOME}` or `$MY_DIR/a/b`).\n",
       "\n",
       "See also `%capture` to instead write the output of the execution of the cell to a file.\n",
       "\n",
       "### `%%script`, `%%bash` and `%%sh`\n",
       "\n",
       "```\n",
       "%%script <command>\n",
       "```\n",
       "\n",
       "Execute `<command>` and feed it (`STDIN`) with the contents of the cell. The `%%bash` and `%%sh` magic is an alias to `%%script bash` and `%%script sh` respectively.\n",
       "\n",
       "Generally, a convenient way to run larger scripts.\n",
       "\n",
       "\n",
       "### Other\n",
       "\n",
       "- `%goworkfix`: work around 'go get' inability to handle 'go.work' files. If you are\n",
       "  using 'go.work' file to point to locally modified modules, consider using this. It creates\n",
       "  'go mod edit --replace' rules to point to the modules pointed to the 'use' rules in 'go.work'\n",
       "  file.\n",
       "  It overwrites/updates 'replace' rules for those modules, if they already exist. See \n",
       "  [tutorial](https://github.com/janpfeifer/gonb/blob/main/examples/tutorial.ipynb) for an example.\n",
       "\n",
       "### Links\n",
       "\n",
       "- [github.com/janpfeifer/gonb](https://github.com/janpfeifer/gonb) - GitHub page.\n",
       "- [Tutorial](https://github.com/janpfeifer/gonb/blob/main/examples/tutorial.ipynb).\n",
       "- [go.dev](https://pkg.go.dev/github.com/janpfeifer/gonb) package reference."
      ]
     },
     "metadata": {},
     "output_type": "display_data"
    }
   ],
   "source": [
    "%help"
   ]
  }
 ],
 "metadata": {
  "kernelspec": {
   "display_name": "Go (gonb)",
   "language": "go",
   "name": "gonb"
  },
  "language_info": {
   "codemirror_mode": "",
   "file_extension": ".go",
   "mimetype": "text/x-go",
   "name": "go",
   "nbconvert_exporter": "",
   "pygments_lexer": "",
   "version": "go1.24.2"
  }
 },
 "nbformat": 4,
 "nbformat_minor": 5
}
